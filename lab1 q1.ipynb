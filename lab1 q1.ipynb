{
 "cells": [
  {
   "cell_type": "code",
   "execution_count": 70,
   "metadata": {},
   "outputs": [
    {
     "name": "stderr",
     "output_type": "stream",
     "text": [
      "C:\\Users\\Meghan\\AppData\\Local\\Temp\\ipykernel_15188\\609951231.py:8: DtypeWarning: Columns (42,52,71,88) have mixed types. Specify dtype option on import or set low_memory=False.\n",
      "  phoenix = pd.read_csv('https://facultyweb.cs.wwu.edu/~hutchib2/spr22/data311/lab1/AZ_Phoenix.csv')\n",
      "C:\\Users\\Meghan\\AppData\\Local\\Temp\\ipykernel_15188\\609951231.py:9: DtypeWarning: Columns (43,51,56,71,88) have mixed types. Specify dtype option on import or set low_memory=False.\n",
      "  losAngeles = pd.read_csv('https://facultyweb.cs.wwu.edu/~hutchib2/spr22/data311/lab1/CA_LosAngeles.csv')\n",
      "C:\\Users\\Meghan\\AppData\\Local\\Temp\\ipykernel_15188\\609951231.py:10: DtypeWarning: Columns (51,52,71,88) have mixed types. Specify dtype option on import or set low_memory=False.\n",
      "  sanFrancisco = pd.read_csv('https://facultyweb.cs.wwu.edu/~hutchib2/spr22/data311/lab1/CA_SanFrancisco.csv')\n",
      "C:\\Users\\Meghan\\AppData\\Local\\Temp\\ipykernel_15188\\609951231.py:11: DtypeWarning: Columns (41,49,51,75,89) have mixed types. Specify dtype option on import or set low_memory=False.\n",
      "  denver = pd.read_csv('https://facultyweb.cs.wwu.edu/~hutchib2/spr22/data311/lab1/CO_Denver.csv')\n",
      "C:\\Users\\Meghan\\AppData\\Local\\Temp\\ipykernel_15188\\609951231.py:12: DtypeWarning: Columns (41,42,51) have mixed types. Specify dtype option on import or set low_memory=False.\n",
      "  jacksonville = pd.read_csv('https://facultyweb.cs.wwu.edu/~hutchib2/spr22/data311/lab1/FL_Jacksonville.csv')\n",
      "C:\\Users\\Meghan\\AppData\\Local\\Temp\\ipykernel_15188\\609951231.py:13: DtypeWarning: Columns (43,49,75) have mixed types. Specify dtype option on import or set low_memory=False.\n",
      "  atlanta = pd.read_csv('https://facultyweb.cs.wwu.edu/~hutchib2/spr22/data311/lab1/GA_Atlanta.csv')\n",
      "C:\\Users\\Meghan\\AppData\\Local\\Temp\\ipykernel_15188\\609951231.py:14: DtypeWarning: Columns (33,75) have mixed types. Specify dtype option on import or set low_memory=False.\n",
      "  chicago = pd.read_csv('https://facultyweb.cs.wwu.edu/~hutchib2/spr22/data311/lab1/IL_Chicago.csv')\n",
      "C:\\Users\\Meghan\\AppData\\Local\\Temp\\ipykernel_15188\\609951231.py:16: DtypeWarning: Columns (33,34,41,51,52,75,76,89) have mixed types. Specify dtype option on import or set low_memory=False.\n",
      "  minneapolis = pd.read_csv('https://facultyweb.cs.wwu.edu/~hutchib2/spr22/data311/lab1/MN_MinneapolisStPaul.csv')\n",
      "C:\\Users\\Meghan\\AppData\\Local\\Temp\\ipykernel_15188\\609951231.py:17: DtypeWarning: Columns (43,49) have mixed types. Specify dtype option on import or set low_memory=False.\n",
      "  ithaca = pd.read_csv('https://facultyweb.cs.wwu.edu/~hutchib2/spr22/data311/lab1/NY_Ithaca.csv')\n",
      "C:\\Users\\Meghan\\AppData\\Local\\Temp\\ipykernel_15188\\609951231.py:18: DtypeWarning: Columns (41,42,43,56,75,89) have mixed types. Specify dtype option on import or set low_memory=False.\n",
      "  newYork = pd.read_csv('https://facultyweb.cs.wwu.edu/~hutchib2/spr22/data311/lab1/NY_NewYorkJFK.csv')\n",
      "C:\\Users\\Meghan\\AppData\\Local\\Temp\\ipykernel_15188\\609951231.py:19: DtypeWarning: Columns (33,34,56,73,75,76,89) have mixed types. Specify dtype option on import or set low_memory=False.\n",
      "  portland = pd.read_csv('https://facultyweb.cs.wwu.edu/~hutchib2/spr22/data311/lab1/OR_Portland.csv')\n",
      "C:\\Users\\Meghan\\AppData\\Local\\Temp\\ipykernel_15188\\609951231.py:20: DtypeWarning: Columns (33,41,42,43,49,52,75,89) have mixed types. Specify dtype option on import or set low_memory=False.\n",
      "  philadelphia = pd.read_csv('https://facultyweb.cs.wwu.edu/~hutchib2/spr22/data311/lab1/PA_Philadelphia.csv')\n",
      "C:\\Users\\Meghan\\AppData\\Local\\Temp\\ipykernel_15188\\609951231.py:21: DtypeWarning: Columns (34,43,75,76,89) have mixed types. Specify dtype option on import or set low_memory=False.\n",
      "  dallas = pd.read_csv('https://facultyweb.cs.wwu.edu/~hutchib2/spr22/data311/lab1/TX_DallasFtWorth.csv')\n",
      "C:\\Users\\Meghan\\AppData\\Local\\Temp\\ipykernel_15188\\609951231.py:22: DtypeWarning: Columns (43,49,75,89) have mixed types. Specify dtype option on import or set low_memory=False.\n",
      "  saltLake = pd.read_csv('https://facultyweb.cs.wwu.edu/~hutchib2/spr22/data311/lab1/UT_SaltLake.csv')\n",
      "C:\\Users\\Meghan\\AppData\\Local\\Temp\\ipykernel_15188\\609951231.py:23: DtypeWarning: Columns (41,43,49,75,89) have mixed types. Specify dtype option on import or set low_memory=False.\n",
      "  dulles = pd.read_csv('https://facultyweb.cs.wwu.edu/~hutchib2/spr22/data311/lab1/VA_WashingtonDulles.csv')\n",
      "C:\\Users\\Meghan\\AppData\\Local\\Temp\\ipykernel_15188\\609951231.py:24: DtypeWarning: Columns (42,49) have mixed types. Specify dtype option on import or set low_memory=False.\n",
      "  bellingham = pd.read_csv('https://facultyweb.cs.wwu.edu/~hutchib2/spr22/data311/lab1/WA_Bellingham.csv')\n",
      "C:\\Users\\Meghan\\AppData\\Local\\Temp\\ipykernel_15188\\609951231.py:25: DtypeWarning: Columns (33,34,41,42,43,49,51,56,73,89) have mixed types. Specify dtype option on import or set low_memory=False.\n",
      "  seattle = pd.read_csv('https://facultyweb.cs.wwu.edu/~hutchib2/spr22/data311/lab1/WA_Seattle.csv')\n"
     ]
    }
   ],
   "source": [
    "# Meghan Flaherty: DATA311\n",
    "# lab 1 NOAA- notebook 1 \n",
    "# determine which of the provided cities was the rainiest in 2020\n",
    "#\n",
    "# worked with Arvind Ramesh for all notebooks in the lab.\n",
    "#    all lines of code were written together, so all basic logic and technique will be the same\n",
    "#    some variable names and formats for how the code is written may be different between our submissions\n",
    "import pandas as pd\n",
    "\n",
    "# reading all csv files for weather data\n",
    "phoenix = pd.read_csv('https://facultyweb.cs.wwu.edu/~hutchib2/spr22/data311/lab1/AZ_Phoenix.csv')\n",
    "losAngeles = pd.read_csv('https://facultyweb.cs.wwu.edu/~hutchib2/spr22/data311/lab1/CA_LosAngeles.csv')\n",
    "sanFrancisco = pd.read_csv('https://facultyweb.cs.wwu.edu/~hutchib2/spr22/data311/lab1/CA_SanFrancisco.csv')\n",
    "denver = pd.read_csv('https://facultyweb.cs.wwu.edu/~hutchib2/spr22/data311/lab1/CO_Denver.csv')\n",
    "jacksonville = pd.read_csv('https://facultyweb.cs.wwu.edu/~hutchib2/spr22/data311/lab1/FL_Jacksonville.csv')\n",
    "atlanta = pd.read_csv('https://facultyweb.cs.wwu.edu/~hutchib2/spr22/data311/lab1/GA_Atlanta.csv')\n",
    "chicago = pd.read_csv('https://facultyweb.cs.wwu.edu/~hutchib2/spr22/data311/lab1/IL_Chicago.csv')\n",
    "boston = pd.read_csv('https://facultyweb.cs.wwu.edu/~hutchib2/spr22/data311/lab1/MA_Boston.csv')\n",
    "minneapolis = pd.read_csv('https://facultyweb.cs.wwu.edu/~hutchib2/spr22/data311/lab1/MN_MinneapolisStPaul.csv')\n",
    "ithaca = pd.read_csv('https://facultyweb.cs.wwu.edu/~hutchib2/spr22/data311/lab1/NY_Ithaca.csv')\n",
    "newYork = pd.read_csv('https://facultyweb.cs.wwu.edu/~hutchib2/spr22/data311/lab1/NY_NewYorkJFK.csv')\n",
    "portland = pd.read_csv('https://facultyweb.cs.wwu.edu/~hutchib2/spr22/data311/lab1/OR_Portland.csv')\n",
    "philadelphia = pd.read_csv('https://facultyweb.cs.wwu.edu/~hutchib2/spr22/data311/lab1/PA_Philadelphia.csv')\n",
    "dallas = pd.read_csv('https://facultyweb.cs.wwu.edu/~hutchib2/spr22/data311/lab1/TX_DallasFtWorth.csv')\n",
    "saltLake = pd.read_csv('https://facultyweb.cs.wwu.edu/~hutchib2/spr22/data311/lab1/UT_SaltLake.csv')\n",
    "dulles = pd.read_csv('https://facultyweb.cs.wwu.edu/~hutchib2/spr22/data311/lab1/VA_WashingtonDulles.csv')\n",
    "bellingham = pd.read_csv('https://facultyweb.cs.wwu.edu/~hutchib2/spr22/data311/lab1/WA_Bellingham.csv')\n",
    "seattle = pd.read_csv('https://facultyweb.cs.wwu.edu/~hutchib2/spr22/data311/lab1/WA_Seattle.csv')\n"
   ]
  },
  {
   "cell_type": "code",
   "execution_count": 136,
   "metadata": {},
   "outputs": [
    {
     "data": {
      "text/plain": [
       "0.004889784309077981"
      ]
     },
     "execution_count": 136,
     "metadata": {},
     "output_type": "execute_result"
    }
   ],
   "source": [
    "# SEATTLE\n",
    "s = seattle[['REPORT_TYPE','HourlyPrecipitation']].dropna()\n",
    "# get only hourly reports\n",
    "sea = s[s['REPORT_TYPE'].str.contains('FM-15')].dropna()\n",
    "# replace 's' occurences with blank '' & 'T' with 0\n",
    "sea['HourlyPrecipitation'] = sea['HourlyPrecipitation'].str.replace(\"s\", \"\")\n",
    "sea['HourlyPrecipitation'] = sea['HourlyPrecipitation'].str.replace(\"T\", \"0\")\n",
    "# convert Hourly Percipitation column to numeric dtype\n",
    "sea = pd.to_numeric(sea['HourlyPrecipitation'])\n",
    "# get mean of Hourly Percipitation for Phoenix\n",
    "seattle_mean = sea.mean()"
   ]
  },
  {
   "cell_type": "code",
   "execution_count": 139,
   "metadata": {},
   "outputs": [
    {
     "data": {
      "text/plain": [
       "0.0005699954400364798"
      ]
     },
     "execution_count": 139,
     "metadata": {},
     "output_type": "execute_result"
    }
   ],
   "source": [
    "# PHOENIX\n",
    "ph = phoenix[['REPORT_TYPE','HourlyPrecipitation']].dropna()\n",
    "# get only hourly reports\n",
    "phx = ph[ph['REPORT_TYPE'].str.contains('FM-15')].dropna()\n",
    "# replace 's' occurences with blank '' & 'T' with 0\n",
    "phx['HourlyPrecipitation'] = phx['HourlyPrecipitation'].str.replace(\"s\", \"\")\n",
    "phx['HourlyPrecipitation'] = phx['HourlyPrecipitation'].str.replace(\"T\", \"0\")\n",
    "# convert Hourly Percipitation column to numeric dtype\n",
    "phx = pd.to_numeric(phx['HourlyPrecipitation'])\n",
    "# get mean of Hourly Percipitation for Phoenix\n",
    "phoenix_mean = phx.mean()"
   ]
  },
  {
   "cell_type": "code",
   "execution_count": 140,
   "metadata": {},
   "outputs": [
    {
     "data": {
      "text/plain": [
       "0.001029612756264237"
      ]
     },
     "execution_count": 140,
     "metadata": {},
     "output_type": "execute_result"
    }
   ],
   "source": [
    "# LOS ANGELES\n",
    "los = losAngeles[['REPORT_TYPE','HourlyPrecipitation']].dropna()\n",
    "# get only hourly reports\n",
    "losAng = los[los['REPORT_TYPE'].str.contains('FM-15')].dropna()\n",
    "# replace 's' occurences with blank '' & 'T' with 0\n",
    "losAng['HourlyPrecipitation'] = losAng['HourlyPrecipitation'].str.replace(\"s\", \"\")\n",
    "losAng['HourlyPrecipitation'] = losAng['HourlyPrecipitation'].str.replace(\"T\", \"0\")\n",
    "# convert Hourly Percipitation column to numeric dtype\n",
    "losAng = pd.to_numeric(losAng['HourlyPrecipitation'])\n",
    "# get mean of Hourly Percipitation for Phoenix\n",
    "losAngeles_mean = losAng.mean()"
   ]
  },
  {
   "cell_type": "code",
   "execution_count": 141,
   "metadata": {},
   "outputs": [
    {
     "data": {
      "text/plain": [
       "0.0006713254668346889"
      ]
     },
     "execution_count": 141,
     "metadata": {},
     "output_type": "execute_result"
    }
   ],
   "source": [
    "# SAN FRANCISCO \n",
    "san = sanFrancisco[['REPORT_TYPE','HourlyPrecipitation']].dropna()\n",
    "# get only hourly reports\n",
    "sanF = san[san['REPORT_TYPE'].str.contains('FM-15')].dropna()\n",
    "# replace 's' occurences with blank '' & 'T' with 0\n",
    "sanF['HourlyPrecipitation'] = sanF['HourlyPrecipitation'].str.replace(\"s\", \"\")\n",
    "sanF['HourlyPrecipitation'] = sanF['HourlyPrecipitation'].str.replace(\"T\", \"0\")\n",
    "# convert Hourly Percipitation column to numeric dtype\n",
    "sanF = pd.to_numeric(sanF['HourlyPrecipitation'])\n",
    "# get mean of Hourly Percipitation for Phoenix\n",
    "sanFrancisco_mean = sanF.mean()"
   ]
  },
  {
   "cell_type": "code",
   "execution_count": 142,
   "metadata": {},
   "outputs": [
    {
     "data": {
      "text/plain": [
       "0.0009957844365956479"
      ]
     },
     "execution_count": 142,
     "metadata": {},
     "output_type": "execute_result"
    }
   ],
   "source": [
    "# DENVER\n",
    "den = denver[['REPORT_TYPE','HourlyPrecipitation']].dropna()\n",
    "# get only hourly reports\n",
    "denV = den[den['REPORT_TYPE'].str.contains('FM-15')].dropna()\n",
    "# replace 's' occurences with blank '' & 'T' with 0\n",
    "denV['HourlyPrecipitation'] = denV['HourlyPrecipitation'].str.replace(\"s\", \"\")\n",
    "denV['HourlyPrecipitation'] = denV['HourlyPrecipitation'].str.replace(\"T\", \"0\")\n",
    "# convert Hourly Percipitation column to numeric dtype\n",
    "denV = pd.to_numeric(denV['HourlyPrecipitation'])\n",
    "# get mean of Hourly Percipitation for Phoenix\n",
    "denver_mean = denV.mean()"
   ]
  },
  {
   "cell_type": "code",
   "execution_count": 143,
   "metadata": {},
   "outputs": [
    {
     "data": {
      "text/plain": [
       "0.0061410550458715595"
      ]
     },
     "execution_count": 143,
     "metadata": {},
     "output_type": "execute_result"
    }
   ],
   "source": [
    "# JACKSONVILLE\n",
    "j = jacksonville[['REPORT_TYPE','HourlyPrecipitation']].dropna()\n",
    "# get only hourly reports\n",
    "jvil = j[j['REPORT_TYPE'].str.contains('FM-15')].dropna()\n",
    "# replace 's' occurences with blank '' & 'T' with 0\n",
    "jvil['HourlyPrecipitation'] = jvil['HourlyPrecipitation'].str.replace(\"s\", \"\")\n",
    "jvil['HourlyPrecipitation'] = jvil['HourlyPrecipitation'].str.replace(\"T\", \"0\")\n",
    "# convert Hourly Percipitation column to numeric dtype\n",
    "jvil = pd.to_numeric(jvil['HourlyPrecipitation'])\n",
    "# get mean of Hourly Percipitation for Phoenix\n",
    "jacksonville_mean = jvil.mean()"
   ]
  },
  {
   "cell_type": "code",
   "execution_count": 144,
   "metadata": {},
   "outputs": [
    {
     "data": {
      "text/plain": [
       "0.007621326042378675"
      ]
     },
     "execution_count": 144,
     "metadata": {},
     "output_type": "execute_result"
    }
   ],
   "source": [
    "# ATLANTA\n",
    "atla = atlanta[['REPORT_TYPE','HourlyPrecipitation']].dropna()\n",
    "# get only hourly reports\n",
    "atl = atla[atla['REPORT_TYPE'].str.contains('FM-15')].dropna()\n",
    "# replace 's' occurences with blank '' & 'T' with 0\n",
    "atl['HourlyPrecipitation'] = atl['HourlyPrecipitation'].str.replace(\"s\", \"\")\n",
    "atl['HourlyPrecipitation'] = atl['HourlyPrecipitation'].str.replace(\"T\", \"0\")\n",
    "# convert Hourly Percipitation column to numeric dtype\n",
    "atl = pd.to_numeric(atl['HourlyPrecipitation'])\n",
    "# get mean of Hourly Percipitation for Phoenix\n",
    "atlanta_mean = atl.mean()"
   ]
  },
  {
   "cell_type": "code",
   "execution_count": 145,
   "metadata": {},
   "outputs": [
    {
     "data": {
      "text/plain": [
       "0.004444572748267898"
      ]
     },
     "execution_count": 145,
     "metadata": {},
     "output_type": "execute_result"
    }
   ],
   "source": [
    "# CHICAGO\n",
    "ch = chicago[['REPORT_TYPE','HourlyPrecipitation']].dropna()\n",
    "# get only hourly reports\n",
    "chi = ch[ch['REPORT_TYPE'].str.contains('FM-15')].dropna()\n",
    "# replace 's' occurences with blank '' & 'T' with 0\n",
    "chi['HourlyPrecipitation'] = chi['HourlyPrecipitation'].str.replace(\"s\", \"\")\n",
    "chi['HourlyPrecipitation'] = chi['HourlyPrecipitation'].str.replace(\"T\", \"0\")\n",
    "# convert Hourly Percipitation column to numeric dtype\n",
    "chi = pd.to_numeric(chi['HourlyPrecipitation'])\n",
    "# get mean of Hourly Percipitation for Phoenix\n",
    "chicago_mean = chi.mean()"
   ]
  },
  {
   "cell_type": "code",
   "execution_count": 146,
   "metadata": {},
   "outputs": [
    {
     "data": {
      "text/plain": [
       "0.004151093892433911"
      ]
     },
     "execution_count": 146,
     "metadata": {},
     "output_type": "execute_result"
    }
   ],
   "source": [
    "# BOSTON\n",
    "bst = boston[['REPORT_TYPE','HourlyPrecipitation']].dropna()\n",
    "# get only hourly reports\n",
    "bos = bst[bst['REPORT_TYPE'].str.contains('FM-15')].dropna()\n",
    "# replace 's' occurences with blank '' & 'T' with 0\n",
    "bos['HourlyPrecipitation'] = bos['HourlyPrecipitation'].str.replace(\"s\", \"\")\n",
    "bos['HourlyPrecipitation'] = bos['HourlyPrecipitation'].str.replace(\"T\", \"0\")\n",
    "# convert Hourly Percipitation column to numeric dtype\n",
    "bos = pd.to_numeric(bos['HourlyPrecipitation'])\n",
    "# get mean of Hourly Percipitation for Phoenix\n",
    "boston_mean = bos.mean()"
   ]
  },
  {
   "cell_type": "code",
   "execution_count": 147,
   "metadata": {},
   "outputs": [
    {
     "data": {
      "text/plain": [
       "0.0033481380252818583"
      ]
     },
     "execution_count": 147,
     "metadata": {},
     "output_type": "execute_result"
    }
   ],
   "source": [
    "# MINNEAPOLIS\n",
    "m = minneapolis[['REPORT_TYPE','HourlyPrecipitation']].dropna()\n",
    "# get only hourly reports\n",
    "minn = m[m['REPORT_TYPE'].str.contains('FM-15')].dropna()\n",
    "# replace 's' occurences with blank '' & 'T' with 0\n",
    "minn['HourlyPrecipitation'] = minn['HourlyPrecipitation'].str.replace(\"s\", \"\")\n",
    "minn['HourlyPrecipitation'] = minn['HourlyPrecipitation'].str.replace(\"T\", \"0\")\n",
    "# convert Hourly Percipitation column to numeric dtype\n",
    "minn = pd.to_numeric(minn['HourlyPrecipitation'])\n",
    "# get mean of Hourly Percipitation for Phoenix\n",
    "minneapolis_mean = minn.mean()"
   ]
  },
  {
   "cell_type": "code",
   "execution_count": 148,
   "metadata": {},
   "outputs": [
    {
     "data": {
      "text/plain": [
       "0.011210977701543738"
      ]
     },
     "execution_count": 148,
     "metadata": {},
     "output_type": "execute_result"
    }
   ],
   "source": [
    "# ITHACA\n",
    "i = ithaca[['REPORT_TYPE','HourlyPrecipitation']].dropna()\n",
    "# get only hourly reports\n",
    "ith = i[i['REPORT_TYPE'].str.contains('FM-15')].dropna()\n",
    "# replace 's' occurences with blank '' & 'T' with 0\n",
    "ith['HourlyPrecipitation'] = ith['HourlyPrecipitation'].str.replace(\"s\", \"\")\n",
    "ith['HourlyPrecipitation'] = ith['HourlyPrecipitation'].str.replace(\"T\", \"0\")\n",
    "# convert Hourly Percipitation column to numeric dtype\n",
    "ith = pd.to_numeric(ith['HourlyPrecipitation'])\n",
    "# get mean of Hourly Percipitation for Phoenix\n",
    "ithaca_mean = ith.mean()"
   ]
  },
  {
   "cell_type": "code",
   "execution_count": 150,
   "metadata": {},
   "outputs": [
    {
     "data": {
      "text/plain": [
       "0.004585086489013558"
      ]
     },
     "execution_count": 150,
     "metadata": {},
     "output_type": "execute_result"
    }
   ],
   "source": [
    "# NEWYORK\n",
    "NewY = newYork[['REPORT_TYPE','HourlyPrecipitation']].dropna()\n",
    "# get only hourly reports\n",
    "york = NewY[NewY['REPORT_TYPE'].str.contains('FM-15')].dropna()\n",
    "# replace 's' occurences with blank '' & 'T' with 0\n",
    "york['HourlyPrecipitation'] = york['HourlyPrecipitation'].str.replace(\"s\", \"\")\n",
    "york['HourlyPrecipitation'] = york['HourlyPrecipitation'].str.replace(\"T\", \"0\")\n",
    "# convert Hourly Percipitation column to numeric dtype\n",
    "york = pd.to_numeric(york['HourlyPrecipitation'])\n",
    "# get mean of Hourly Percipitation for Phoenix\n",
    "newYork_mean = york.mean()"
   ]
  },
  {
   "cell_type": "code",
   "execution_count": 151,
   "metadata": {},
   "outputs": [
    {
     "data": {
      "text/plain": [
       "0.003695181683563048"
      ]
     },
     "execution_count": 151,
     "metadata": {},
     "output_type": "execute_result"
    }
   ],
   "source": [
    "# PORTLAND\n",
    "po = portland[['REPORT_TYPE','HourlyPrecipitation']].dropna()\n",
    "# get only hourly reports\n",
    "port = po[po['REPORT_TYPE'].str.contains('FM-15')].dropna()\n",
    "# replace 's' occurences with blank '' & 'T' with 0\n",
    "port['HourlyPrecipitation'] = port['HourlyPrecipitation'].str.replace(\"s\", \"\")\n",
    "port['HourlyPrecipitation'] = port['HourlyPrecipitation'].str.replace(\"T\", \"0\")\n",
    "# convert Hourly Percipitation column to numeric dtype\n",
    "port = pd.to_numeric(port['HourlyPrecipitation'])\n",
    "# get mean of Hourly Percipitation for Phoenix\n",
    "portland_mean = port.mean()"
   ]
  },
  {
   "cell_type": "code",
   "execution_count": 152,
   "metadata": {},
   "outputs": [
    {
     "data": {
      "text/plain": [
       "0.00566807153434332"
      ]
     },
     "execution_count": 152,
     "metadata": {},
     "output_type": "execute_result"
    }
   ],
   "source": [
    "# PHILADELPHIA\n",
    "phi = philadelphia[['REPORT_TYPE','HourlyPrecipitation']].dropna()\n",
    "# get only hourly reports\n",
    "philly = phi[phi['REPORT_TYPE'].str.contains('FM-15')].dropna()\n",
    "# replace 's' occurences with blank '' & 'T' with 0\n",
    "philly['HourlyPrecipitation'] = philly['HourlyPrecipitation'].str.replace(\"s\", \"\")\n",
    "philly['HourlyPrecipitation'] = philly['HourlyPrecipitation'].str.replace(\"T\", \"0\")\n",
    "# convert Hourly Percipitation column to numeric dtype\n",
    "philly = pd.to_numeric(philly['HourlyPrecipitation'])\n",
    "# get mean of Hourly Percipitation for Phoenix\n",
    "philadelphia_mean = philly.mean()"
   ]
  },
  {
   "cell_type": "code",
   "execution_count": 153,
   "metadata": {},
   "outputs": [
    {
     "data": {
      "text/plain": [
       "0.004979489516864176"
      ]
     },
     "execution_count": 153,
     "metadata": {},
     "output_type": "execute_result"
    }
   ],
   "source": [
    "# DALLAS\n",
    "da = dallas[['REPORT_TYPE','HourlyPrecipitation']].dropna()\n",
    "# get only hourly reports\n",
    "dall = da[da['REPORT_TYPE'].str.contains('FM-15')].dropna()\n",
    "# replace 's' occurences with blank '' & 'T' with 0\n",
    "dall['HourlyPrecipitation'] = dall['HourlyPrecipitation'].str.replace(\"s\", \"\")\n",
    "dall['HourlyPrecipitation'] = dall['HourlyPrecipitation'].str.replace(\"T\", \"0\")\n",
    "# convert Hourly Percipitation column to numeric dtype\n",
    "dall = pd.to_numeric(dall['HourlyPrecipitation'])\n",
    "# get mean of Hourly Percipitation for Phoenix\n",
    "dallas_mean = dall.mean()"
   ]
  },
  {
   "cell_type": "code",
   "execution_count": 154,
   "metadata": {},
   "outputs": [
    {
     "data": {
      "text/plain": [
       "0.0010274599542334096"
      ]
     },
     "execution_count": 154,
     "metadata": {},
     "output_type": "execute_result"
    }
   ],
   "source": [
    "# SALTLAKE\n",
    "saL = saltLake[['REPORT_TYPE','HourlyPrecipitation']].dropna()\n",
    "# get only hourly reports\n",
    "salt = saL[saL['REPORT_TYPE'].str.contains('FM-15')].dropna()\n",
    "# replace 's' occurences with blank '' & 'T' with 0\n",
    "salt['HourlyPrecipitation'] = salt['HourlyPrecipitation'].str.replace(\"s\", \"\")\n",
    "salt['HourlyPrecipitation'] = salt['HourlyPrecipitation'].str.replace(\"T\", \"0\")\n",
    "# convert Hourly Percipitation column to numeric dtype\n",
    "salt = pd.to_numeric(salt['HourlyPrecipitation'])\n",
    "# get mean of Hourly Percipitation for Phoenix\n",
    "saltLake_mean = salt.mean()"
   ]
  },
  {
   "cell_type": "code",
   "execution_count": 155,
   "metadata": {},
   "outputs": [
    {
     "data": {
      "text/plain": [
       "0.005650931535032576"
      ]
     },
     "execution_count": 155,
     "metadata": {},
     "output_type": "execute_result"
    }
   ],
   "source": [
    "# DULLES\n",
    "du = dulles[['REPORT_TYPE','HourlyPrecipitation']].dropna()\n",
    "# get only hourly reports\n",
    "dul = du[du['REPORT_TYPE'].str.contains('FM-15')].dropna()\n",
    "# replace 's' occurences with blank '' & 'T' with 0\n",
    "dul['HourlyPrecipitation'] = dul['HourlyPrecipitation'].str.replace(\"s\", \"\")\n",
    "dul['HourlyPrecipitation'] = dul['HourlyPrecipitation'].str.replace(\"T\", \"0\")\n",
    "# convert Hourly Percipitation column to numeric dtype\n",
    "dul = pd.to_numeric(dul['HourlyPrecipitation'])\n",
    "# get mean of Hourly Percipitation for Phoenix\n",
    "dulles_mean = dul.mean()"
   ]
  },
  {
   "cell_type": "code",
   "execution_count": 156,
   "metadata": {},
   "outputs": [
    {
     "data": {
      "text/plain": [
       "0.0047725950913109225"
      ]
     },
     "execution_count": 156,
     "metadata": {},
     "output_type": "execute_result"
    }
   ],
   "source": [
    "# BELLINGHAM\n",
    "bell = bellingham[['REPORT_TYPE','HourlyPrecipitation']].dropna()\n",
    "# get only hourly reports\n",
    "bham = bell[bell['REPORT_TYPE'].str.contains('FM-15')].dropna()\n",
    "# replace 's' occurences with blank '' & 'T' with 0\n",
    "bham['HourlyPrecipitation'] = bham['HourlyPrecipitation'].str.replace(\"s\", \"\")\n",
    "bham['HourlyPrecipitation'] = bham['HourlyPrecipitation'].str.replace(\"T\", \"0\")\n",
    "# convert Hourly Percipitation column to numeric dtype\n",
    "bham = pd.to_numeric(bham['HourlyPrecipitation'])\n",
    "# get mean of Hourly Percipitation for Phoenix\n",
    "bellingham_mean = bham.mean()"
   ]
  },
  {
   "cell_type": "code",
   "execution_count": 158,
   "metadata": {},
   "outputs": [
    {
     "data": {
      "text/html": [
       "<div>\n",
       "<style scoped>\n",
       "    .dataframe tbody tr th:only-of-type {\n",
       "        vertical-align: middle;\n",
       "    }\n",
       "\n",
       "    .dataframe tbody tr th {\n",
       "        vertical-align: top;\n",
       "    }\n",
       "\n",
       "    .dataframe thead th {\n",
       "        text-align: right;\n",
       "    }\n",
       "</style>\n",
       "<table border=\"1\" class=\"dataframe\">\n",
       "  <thead>\n",
       "    <tr style=\"text-align: right;\">\n",
       "      <th></th>\n",
       "      <th>City</th>\n",
       "      <th>Mean Precipitation Value</th>\n",
       "    </tr>\n",
       "  </thead>\n",
       "  <tbody>\n",
       "    <tr>\n",
       "      <th>9</th>\n",
       "      <td>Ithaca</td>\n",
       "      <td>0.011211</td>\n",
       "    </tr>\n",
       "    <tr>\n",
       "      <th>5</th>\n",
       "      <td>Atlanta</td>\n",
       "      <td>0.007621</td>\n",
       "    </tr>\n",
       "    <tr>\n",
       "      <th>4</th>\n",
       "      <td>Jacksonville</td>\n",
       "      <td>0.006141</td>\n",
       "    </tr>\n",
       "    <tr>\n",
       "      <th>12</th>\n",
       "      <td>Philadelphia</td>\n",
       "      <td>0.005668</td>\n",
       "    </tr>\n",
       "    <tr>\n",
       "      <th>15</th>\n",
       "      <td>Dulles</td>\n",
       "      <td>0.005651</td>\n",
       "    </tr>\n",
       "    <tr>\n",
       "      <th>13</th>\n",
       "      <td>Dallas</td>\n",
       "      <td>0.004979</td>\n",
       "    </tr>\n",
       "    <tr>\n",
       "      <th>17</th>\n",
       "      <td>Seattle</td>\n",
       "      <td>0.004890</td>\n",
       "    </tr>\n",
       "    <tr>\n",
       "      <th>16</th>\n",
       "      <td>Bellingham</td>\n",
       "      <td>0.004773</td>\n",
       "    </tr>\n",
       "    <tr>\n",
       "      <th>10</th>\n",
       "      <td>New York</td>\n",
       "      <td>0.004585</td>\n",
       "    </tr>\n",
       "    <tr>\n",
       "      <th>6</th>\n",
       "      <td>Chicago</td>\n",
       "      <td>0.004445</td>\n",
       "    </tr>\n",
       "    <tr>\n",
       "      <th>7</th>\n",
       "      <td>Boston</td>\n",
       "      <td>0.004151</td>\n",
       "    </tr>\n",
       "    <tr>\n",
       "      <th>11</th>\n",
       "      <td>Portland</td>\n",
       "      <td>0.003695</td>\n",
       "    </tr>\n",
       "    <tr>\n",
       "      <th>8</th>\n",
       "      <td>Minneapolis</td>\n",
       "      <td>0.003348</td>\n",
       "    </tr>\n",
       "    <tr>\n",
       "      <th>1</th>\n",
       "      <td>Los Angeles</td>\n",
       "      <td>0.001030</td>\n",
       "    </tr>\n",
       "    <tr>\n",
       "      <th>14</th>\n",
       "      <td>Salt Lake</td>\n",
       "      <td>0.001027</td>\n",
       "    </tr>\n",
       "    <tr>\n",
       "      <th>3</th>\n",
       "      <td>Denver</td>\n",
       "      <td>0.000996</td>\n",
       "    </tr>\n",
       "    <tr>\n",
       "      <th>2</th>\n",
       "      <td>San Francisco</td>\n",
       "      <td>0.000671</td>\n",
       "    </tr>\n",
       "    <tr>\n",
       "      <th>0</th>\n",
       "      <td>Phoenix</td>\n",
       "      <td>0.000570</td>\n",
       "    </tr>\n",
       "  </tbody>\n",
       "</table>\n",
       "</div>"
      ],
      "text/plain": [
       "             City  Mean Precipitation Value\n",
       "9          Ithaca                  0.011211\n",
       "5         Atlanta                  0.007621\n",
       "4    Jacksonville                  0.006141\n",
       "12   Philadelphia                  0.005668\n",
       "15         Dulles                  0.005651\n",
       "13         Dallas                  0.004979\n",
       "17        Seattle                  0.004890\n",
       "16     Bellingham                  0.004773\n",
       "10       New York                  0.004585\n",
       "6         Chicago                  0.004445\n",
       "7          Boston                  0.004151\n",
       "11       Portland                  0.003695\n",
       "8     Minneapolis                  0.003348\n",
       "1     Los Angeles                  0.001030\n",
       "14      Salt Lake                  0.001027\n",
       "3          Denver                  0.000996\n",
       "2   San Francisco                  0.000671\n",
       "0         Phoenix                  0.000570"
      ]
     },
     "execution_count": 158,
     "metadata": {},
     "output_type": "execute_result"
    }
   ],
   "source": [
    "# creating and filling data frame with mean values \n",
    "data = {'City': ['Phoenix','Los Angeles','San Francisco','Denver','Jacksonville','Atlanta','Chicago','Boston','Minneapolis','Ithaca','New York','Portland',\n",
    "'Philadelphia','Dallas','Salt Lake','Dulles','Bellingham','Seattle'],\n",
    "'Mean Precipitation Value': [phoenix_mean,losAngeles_mean,sanFrancisco_mean,denver_mean,jacksonville_mean,atlanta_mean,chicago_mean,boston_mean,minneapolis_mean,ithaca_mean,\n",
    "newYork_mean,portland_mean,philadelphia_mean,dallas_mean,saltLake_mean,dulles_mean,bellingham_mean,seattle_mean]}\n",
    "\n",
    "mean_df = pd.DataFrame(data)\n",
    "# sort the data frame in descending order of the mean values\n",
    "mean_df.sort_values(by='Mean Precipitation Value', ascending=False)\n"
   ]
  }
 ],
 "metadata": {
  "kernelspec": {
   "display_name": "NOAA",
   "language": "python",
   "name": "python3"
  },
  "language_info": {
   "codemirror_mode": {
    "name": "ipython",
    "version": 3
   },
   "file_extension": ".py",
   "mimetype": "text/x-python",
   "name": "python",
   "nbconvert_exporter": "python",
   "pygments_lexer": "ipython3",
   "version": "3.12.1"
  }
 },
 "nbformat": 4,
 "nbformat_minor": 2
}
