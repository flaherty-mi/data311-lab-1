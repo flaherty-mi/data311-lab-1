{
 "cells": [
  {
   "cell_type": "code",
   "execution_count": 109,
   "metadata": {},
   "outputs": [
    {
     "name": "stderr",
     "output_type": "stream",
     "text": [
      "C:\\Users\\Meghan\\AppData\\Local\\Temp\\ipykernel_26988\\2709058063.py:7: DtypeWarning: Columns (43,51,56,71,88) have mixed types. Specify dtype option on import or set low_memory=False.\n",
      "  losAngeles = pd.read_csv('https://facultyweb.cs.wwu.edu/~hutchib2/spr22/data311/lab1/CA_LosAngeles.csv')\n",
      "C:\\Users\\Meghan\\AppData\\Local\\Temp\\ipykernel_26988\\2709058063.py:8: DtypeWarning: Columns (51,52,71,88) have mixed types. Specify dtype option on import or set low_memory=False.\n",
      "  sanFrancisco = pd.read_csv('https://facultyweb.cs.wwu.edu/~hutchib2/spr22/data311/lab1/CA_SanFrancisco.csv')\n",
      "C:\\Users\\Meghan\\AppData\\Local\\Temp\\ipykernel_26988\\2709058063.py:9: DtypeWarning: Columns (33,34,56,73,75,76,89) have mixed types. Specify dtype option on import or set low_memory=False.\n",
      "  portland = pd.read_csv('https://facultyweb.cs.wwu.edu/~hutchib2/spr22/data311/lab1/OR_Portland.csv')\n",
      "C:\\Users\\Meghan\\AppData\\Local\\Temp\\ipykernel_26988\\2709058063.py:10: DtypeWarning: Columns (42,49) have mixed types. Specify dtype option on import or set low_memory=False.\n",
      "  bellingham = pd.read_csv('https://facultyweb.cs.wwu.edu/~hutchib2/spr22/data311/lab1/WA_Bellingham.csv')\n",
      "C:\\Users\\Meghan\\AppData\\Local\\Temp\\ipykernel_26988\\2709058063.py:11: DtypeWarning: Columns (33,34,41,42,43,49,51,56,73,89) have mixed types. Specify dtype option on import or set low_memory=False.\n",
      "  seattle = pd.read_csv('https://facultyweb.cs.wwu.edu/~hutchib2/spr22/data311/lab1/WA_Seattle.csv')\n"
     ]
    }
   ],
   "source": [
    "# Meghan Flaherty: DATA311\n",
    "# lab 1 NOAA- notebook 4 \n",
    "# comparing visibility of 5 cities on the west coast based on hourly reports\n",
    "# \n",
    "# worked with Arvind Ramesh for all notebooks in the lab.\n",
    "#    all lines of code were written together, so all basic logic and technique will be the same\n",
    "#    some variable names and formats for how the code is written may be different between our submissions\n",
    "\n",
    "import pandas as pd\n",
    "\n",
    "losAngeles = pd.read_csv('https://facultyweb.cs.wwu.edu/~hutchib2/spr22/data311/lab1/CA_LosAngeles.csv')\n",
    "sanFrancisco = pd.read_csv('https://facultyweb.cs.wwu.edu/~hutchib2/spr22/data311/lab1/CA_SanFrancisco.csv')\n",
    "portland = pd.read_csv('https://facultyweb.cs.wwu.edu/~hutchib2/spr22/data311/lab1/OR_Portland.csv')\n",
    "bellingham = pd.read_csv('https://facultyweb.cs.wwu.edu/~hutchib2/spr22/data311/lab1/WA_Bellingham.csv')\n",
    "seattle = pd.read_csv('https://facultyweb.cs.wwu.edu/~hutchib2/spr22/data311/lab1/WA_Seattle.csv')"
   ]
  },
  {
   "cell_type": "code",
   "execution_count": 154,
   "metadata": {},
   "outputs": [],
   "source": [
    "# get only report type and HV columns\n",
    "losAng = losAngeles[['REPORT_TYPE','HourlyVisibility']].dropna()\n",
    "sanFra = sanFrancisco[['REPORT_TYPE','HourlyVisibility']].dropna()\n",
    "port = portland[['REPORT_TYPE','HourlyVisibility']].dropna()\n",
    "bham = bellingham[['REPORT_TYPE','HourlyVisibility']].dropna()\n",
    "sea = seattle[['REPORT_TYPE','HourlyVisibility']].dropna()"
   ]
  },
  {
   "cell_type": "code",
   "execution_count": 155,
   "metadata": {},
   "outputs": [],
   "source": [
    "# LOS ANGELES\n",
    "# get only hourly reports\n",
    "losAng = losAngeles[losAngeles['REPORT_TYPE']=='FM-15']\n",
    "# replace 'V' values with 0\n",
    "losAng_mean = pd.to_numeric(losAng['HourlyPrecipitation'], errors = 'coerce').fillna(0).mean()"
   ]
  },
  {
   "cell_type": "code",
   "execution_count": 156,
   "metadata": {},
   "outputs": [],
   "source": [
    "# SAN FRANCISCO\n",
    "# get only hourly reports\n",
    "sanFra = sanFrancisco[sanFrancisco['REPORT_TYPE']=='FM-15']\n",
    "# replace 'V' values with 0\n",
    "sanFra_mean = pd.to_numeric(sanFra['HourlyPrecipitation'], errors = 'coerce').fillna(0).mean()"
   ]
  },
  {
   "cell_type": "code",
   "execution_count": 157,
   "metadata": {},
   "outputs": [],
   "source": [
    "# PORTLAND\n",
    "# get only hourly reports\n",
    "port = portland[portland['REPORT_TYPE']=='FM-15']\n",
    "# replace 'V' values with 0\n",
    "port_mean = pd.to_numeric(port['HourlyPrecipitation'], errors = 'coerce').fillna(0).mean()"
   ]
  },
  {
   "cell_type": "code",
   "execution_count": 158,
   "metadata": {},
   "outputs": [],
   "source": [
    "# BELLINGHAM\n",
    "# get only hourly reports\n",
    "bham = bellingham[bellingham['REPORT_TYPE']=='FM-15']\n",
    "# replace 'V' values with 0\n",
    "bham_mean = pd.to_numeric(bham['HourlyPrecipitation'], errors = 'coerce').fillna(0).mean()"
   ]
  },
  {
   "cell_type": "code",
   "execution_count": 159,
   "metadata": {},
   "outputs": [],
   "source": [
    "# SEATTLE\n",
    "# get only hourly reports\n",
    "sea = seattle[seattle['REPORT_TYPE']=='FM-15']\n",
    "# replace 'V' values with 0\n",
    "sea_mean = pd.to_numeric(sea['HourlyPrecipitation'], errors = 'coerce').fillna(0).mean()"
   ]
  },
  {
   "cell_type": "code",
   "execution_count": 160,
   "metadata": {},
   "outputs": [
    {
     "data": {
      "text/html": [
       "<div>\n",
       "<style scoped>\n",
       "    .dataframe tbody tr th:only-of-type {\n",
       "        vertical-align: middle;\n",
       "    }\n",
       "\n",
       "    .dataframe tbody tr th {\n",
       "        vertical-align: top;\n",
       "    }\n",
       "\n",
       "    .dataframe thead th {\n",
       "        text-align: right;\n",
       "    }\n",
       "</style>\n",
       "<table border=\"1\" class=\"dataframe\">\n",
       "  <thead>\n",
       "    <tr style=\"text-align: right;\">\n",
       "      <th></th>\n",
       "      <th>City</th>\n",
       "      <th>Mean Hourly Visibility</th>\n",
       "    </tr>\n",
       "  </thead>\n",
       "  <tbody>\n",
       "    <tr>\n",
       "      <th>4</th>\n",
       "      <td>Seattle</td>\n",
       "      <td>0.004624</td>\n",
       "    </tr>\n",
       "    <tr>\n",
       "      <th>3</th>\n",
       "      <td>Bellingham</td>\n",
       "      <td>0.004562</td>\n",
       "    </tr>\n",
       "    <tr>\n",
       "      <th>2</th>\n",
       "      <td>Portland</td>\n",
       "      <td>0.003607</td>\n",
       "    </tr>\n",
       "    <tr>\n",
       "      <th>0</th>\n",
       "      <td>Los Angeles</td>\n",
       "      <td>0.000982</td>\n",
       "    </tr>\n",
       "    <tr>\n",
       "      <th>1</th>\n",
       "      <td>San Francisco</td>\n",
       "      <td>0.000635</td>\n",
       "    </tr>\n",
       "  </tbody>\n",
       "</table>\n",
       "</div>"
      ],
      "text/plain": [
       "            City  Mean Hourly Visibility\n",
       "4        Seattle                0.004624\n",
       "3     Bellingham                0.004562\n",
       "2       Portland                0.003607\n",
       "0    Los Angeles                0.000982\n",
       "1  San Francisco                0.000635"
      ]
     },
     "execution_count": 160,
     "metadata": {},
     "output_type": "execute_result"
    }
   ],
   "source": [
    "# creating final data frame & fill with values\n",
    "data = {'City': ['Los Angeles','San Francisco','Portland','Bellingham','Seattle'],\n",
    "        'Mean Hourly Visibility': [losAng_mean,sanFra_mean,port_mean,bham_mean,sea_mean]}\n",
    "df = pd.DataFrame(data)\n",
    "# sort in descending order\n",
    "df.sort_values(by='Mean Hourly Visibility', ascending=False)"
   ]
  }
 ],
 "metadata": {
  "kernelspec": {
   "display_name": "NOAA",
   "language": "python",
   "name": "python3"
  },
  "language_info": {
   "codemirror_mode": {
    "name": "ipython",
    "version": 3
   },
   "file_extension": ".py",
   "mimetype": "text/x-python",
   "name": "python",
   "nbconvert_exporter": "python",
   "pygments_lexer": "ipython3",
   "version": "3.12.1"
  }
 },
 "nbformat": 4,
 "nbformat_minor": 2
}
