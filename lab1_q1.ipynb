{
 "cells": [
  {
   "cell_type": "code",
   "execution_count": 67,
   "metadata": {},
   "outputs": [
    {
     "name": "stderr",
     "output_type": "stream",
     "text": [
      "/var/folders/dt/4x8djc_n037fj7m_17pj_0hr0000gn/T/ipykernel_41622/3905864191.py:5: DtypeWarning: Columns (42,52,71,88) have mixed types. Specify dtype option on import or set low_memory=False.\n",
      "  az = pd.read_csv('https://facultyweb.cs.wwu.edu/~hutchib2/spr22/data311/lab1/AZ_Phoenix.csv')\n",
      "/var/folders/dt/4x8djc_n037fj7m_17pj_0hr0000gn/T/ipykernel_41622/3905864191.py:6: DtypeWarning: Columns (43,51,56,71,88) have mixed types. Specify dtype option on import or set low_memory=False.\n",
      "  la = pd.read_csv('https://facultyweb.cs.wwu.edu/~hutchib2/spr22/data311/lab1/CA_LosAngeles.csv')\n",
      "/var/folders/dt/4x8djc_n037fj7m_17pj_0hr0000gn/T/ipykernel_41622/3905864191.py:7: DtypeWarning: Columns (51,52,71,88) have mixed types. Specify dtype option on import or set low_memory=False.\n",
      "  sf = pd.read_csv('https://facultyweb.cs.wwu.edu/~hutchib2/spr22/data311/lab1/CA_SanFrancisco.csv')\n",
      "/var/folders/dt/4x8djc_n037fj7m_17pj_0hr0000gn/T/ipykernel_41622/3905864191.py:8: DtypeWarning: Columns (41,49,51,75,89) have mixed types. Specify dtype option on import or set low_memory=False.\n",
      "  dn = pd.read_csv('https://facultyweb.cs.wwu.edu/~hutchib2/spr22/data311/lab1/CO_Denver.csv')\n",
      "/var/folders/dt/4x8djc_n037fj7m_17pj_0hr0000gn/T/ipykernel_41622/3905864191.py:9: DtypeWarning: Columns (41,42,51) have mixed types. Specify dtype option on import or set low_memory=False.\n",
      "  jv = pd.read_csv('https://facultyweb.cs.wwu.edu/~hutchib2/spr22/data311/lab1/FL_Jacksonville.csv')\n",
      "/var/folders/dt/4x8djc_n037fj7m_17pj_0hr0000gn/T/ipykernel_41622/3905864191.py:10: DtypeWarning: Columns (43,49,75) have mixed types. Specify dtype option on import or set low_memory=False.\n",
      "  at = pd.read_csv('https://facultyweb.cs.wwu.edu/~hutchib2/spr22/data311/lab1/GA_Atlanta.csv')\n",
      "/var/folders/dt/4x8djc_n037fj7m_17pj_0hr0000gn/T/ipykernel_41622/3905864191.py:11: DtypeWarning: Columns (33,75) have mixed types. Specify dtype option on import or set low_memory=False.\n",
      "  chi = pd.read_csv('https://facultyweb.cs.wwu.edu/~hutchib2/spr22/data311/lab1/IL_Chicago.csv')\n",
      "/var/folders/dt/4x8djc_n037fj7m_17pj_0hr0000gn/T/ipykernel_41622/3905864191.py:13: DtypeWarning: Columns (33,34,41,51,52,75,76,89) have mixed types. Specify dtype option on import or set low_memory=False.\n",
      "  min = pd.read_csv('https://facultyweb.cs.wwu.edu/~hutchib2/spr22/data311/lab1/MN_MinneapolisStPaul.csv')\n",
      "/var/folders/dt/4x8djc_n037fj7m_17pj_0hr0000gn/T/ipykernel_41622/3905864191.py:14: DtypeWarning: Columns (43,49) have mixed types. Specify dtype option on import or set low_memory=False.\n",
      "  ith = pd.read_csv('https://facultyweb.cs.wwu.edu/~hutchib2/spr22/data311/lab1/NY_Ithaca.csv')\n",
      "/var/folders/dt/4x8djc_n037fj7m_17pj_0hr0000gn/T/ipykernel_41622/3905864191.py:15: DtypeWarning: Columns (41,42,43,56,75,89) have mixed types. Specify dtype option on import or set low_memory=False.\n",
      "  nyc = pd.read_csv('https://facultyweb.cs.wwu.edu/~hutchib2/spr22/data311/lab1/NY_NewYorkJFK.csv')\n",
      "/var/folders/dt/4x8djc_n037fj7m_17pj_0hr0000gn/T/ipykernel_41622/3905864191.py:16: DtypeWarning: Columns (33,34,56,73,75,76,89) have mixed types. Specify dtype option on import or set low_memory=False.\n",
      "  por = pd.read_csv('https://facultyweb.cs.wwu.edu/~hutchib2/spr22/data311/lab1/OR_Portland.csv')\n",
      "/var/folders/dt/4x8djc_n037fj7m_17pj_0hr0000gn/T/ipykernel_41622/3905864191.py:17: DtypeWarning: Columns (33,41,42,43,49,52,75,89) have mixed types. Specify dtype option on import or set low_memory=False.\n",
      "  phil = pd.read_csv('https://facultyweb.cs.wwu.edu/~hutchib2/spr22/data311/lab1/PA_Philadelphia.csv')\n",
      "/var/folders/dt/4x8djc_n037fj7m_17pj_0hr0000gn/T/ipykernel_41622/3905864191.py:18: DtypeWarning: Columns (34,43,75,76,89) have mixed types. Specify dtype option on import or set low_memory=False.\n",
      "  dal = pd.read_csv('https://facultyweb.cs.wwu.edu/~hutchib2/spr22/data311/lab1/TX_DallasFtWorth.csv')\n",
      "/var/folders/dt/4x8djc_n037fj7m_17pj_0hr0000gn/T/ipykernel_41622/3905864191.py:19: DtypeWarning: Columns (43,49,75,89) have mixed types. Specify dtype option on import or set low_memory=False.\n",
      "  salt = pd.read_csv('https://facultyweb.cs.wwu.edu/~hutchib2/spr22/data311/lab1/UT_SaltLake.csv')\n",
      "/var/folders/dt/4x8djc_n037fj7m_17pj_0hr0000gn/T/ipykernel_41622/3905864191.py:20: DtypeWarning: Columns (41,43,49,75,89) have mixed types. Specify dtype option on import or set low_memory=False.\n",
      "  dull = pd.read_csv('https://facultyweb.cs.wwu.edu/~hutchib2/spr22/data311/lab1/VA_WashingtonDulles.csv')\n",
      "/var/folders/dt/4x8djc_n037fj7m_17pj_0hr0000gn/T/ipykernel_41622/3905864191.py:21: DtypeWarning: Columns (42,49) have mixed types. Specify dtype option on import or set low_memory=False.\n",
      "  bell = pd.read_csv('https://facultyweb.cs.wwu.edu/~hutchib2/spr22/data311/lab1/WA_Bellingham.csv')\n",
      "/var/folders/dt/4x8djc_n037fj7m_17pj_0hr0000gn/T/ipykernel_41622/3905864191.py:22: DtypeWarning: Columns (33,34,41,42,43,49,51,56,73,89) have mixed types. Specify dtype option on import or set low_memory=False.\n",
      "  sea = pd.read_csv('https://facultyweb.cs.wwu.edu/~hutchib2/spr22/data311/lab1/WA_Seattle.csv')\n"
     ]
    }
   ],
   "source": [
    "import pandas as pd\n",
    "\n",
    "# Determine which of the provided cities was the rainiest in 2020\n",
    "# Read all the csv files to use and access\n",
    "az = pd.read_csv('https://facultyweb.cs.wwu.edu/~hutchib2/spr22/data311/lab1/AZ_Phoenix.csv')\n",
    "la = pd.read_csv('https://facultyweb.cs.wwu.edu/~hutchib2/spr22/data311/lab1/CA_LosAngeles.csv') \n",
    "sf = pd.read_csv('https://facultyweb.cs.wwu.edu/~hutchib2/spr22/data311/lab1/CA_SanFrancisco.csv')\n",
    "dn = pd.read_csv('https://facultyweb.cs.wwu.edu/~hutchib2/spr22/data311/lab1/CO_Denver.csv')\n",
    "jv = pd.read_csv('https://facultyweb.cs.wwu.edu/~hutchib2/spr22/data311/lab1/FL_Jacksonville.csv')\n",
    "at = pd.read_csv('https://facultyweb.cs.wwu.edu/~hutchib2/spr22/data311/lab1/GA_Atlanta.csv')\n",
    "chi = pd.read_csv('https://facultyweb.cs.wwu.edu/~hutchib2/spr22/data311/lab1/IL_Chicago.csv')\n",
    "bos = pd.read_csv('https://facultyweb.cs.wwu.edu/~hutchib2/spr22/data311/lab1/MA_Boston.csv')\n",
    "min = pd.read_csv('https://facultyweb.cs.wwu.edu/~hutchib2/spr22/data311/lab1/MN_MinneapolisStPaul.csv')\n",
    "ith = pd.read_csv('https://facultyweb.cs.wwu.edu/~hutchib2/spr22/data311/lab1/NY_Ithaca.csv')\n",
    "nyc = pd.read_csv('https://facultyweb.cs.wwu.edu/~hutchib2/spr22/data311/lab1/NY_NewYorkJFK.csv')\n",
    "por = pd.read_csv('https://facultyweb.cs.wwu.edu/~hutchib2/spr22/data311/lab1/OR_Portland.csv')\n",
    "phil = pd.read_csv('https://facultyweb.cs.wwu.edu/~hutchib2/spr22/data311/lab1/PA_Philadelphia.csv')\n",
    "dal = pd.read_csv('https://facultyweb.cs.wwu.edu/~hutchib2/spr22/data311/lab1/TX_DallasFtWorth.csv')\n",
    "salt = pd.read_csv('https://facultyweb.cs.wwu.edu/~hutchib2/spr22/data311/lab1/UT_SaltLake.csv')\n",
    "dull = pd.read_csv('https://facultyweb.cs.wwu.edu/~hutchib2/spr22/data311/lab1/VA_WashingtonDulles.csv')\n",
    "bell = pd.read_csv('https://facultyweb.cs.wwu.edu/~hutchib2/spr22/data311/lab1/WA_Bellingham.csv')\n",
    "sea = pd.read_csv('https://facultyweb.cs.wwu.edu/~hutchib2/spr22/data311/lab1/WA_Seattle.csv')\n",
    "\n"
   ]
  },
  {
   "cell_type": "code",
   "execution_count": 75,
   "metadata": {},
   "outputs": [
    {
     "data": {
      "text/plain": [
       "0.006897765905779505"
      ]
     },
     "execution_count": 75,
     "metadata": {},
     "output_type": "execute_result"
    }
   ],
   "source": [
    "# Filter out the 'T' and the NaN Values \n",
    "df = sea[['HourlyPrecipitation']][sea['HourlyPrecipitation']!='T'].dropna()\n",
    "\n",
    "# Replace the s values with nothing\n",
    "df['HourlyPrecipitation'] = df['HourlyPrecipitation'].str.replace(\"s\", \"\")\n",
    "\n",
    "# Convert data values to int\n",
    "df = pd.to_numeric(df['HourlyPrecipitation'])\n",
    "\n",
    "# Calculate the mean\n",
    "sea_mean = df.mean()\n",
    "\n",
    "sea_mean\n"
   ]
  },
  {
   "cell_type": "code",
   "execution_count": 76,
   "metadata": {},
   "outputs": [
    {
     "data": {
      "text/plain": [
       "0.001153626499143347"
      ]
     },
     "execution_count": 76,
     "metadata": {},
     "output_type": "execute_result"
    }
   ],
   "source": [
    "# Filter out the 'T' and the NaN Values \n",
    "df = az[['HourlyPrecipitation']][az['HourlyPrecipitation']!='T'].dropna()\n",
    "\n",
    "# Replace the s values with nothing\n",
    "df['HourlyPrecipitation'] = df['HourlyPrecipitation'].str.replace(\"s\", \"\")\n",
    "\n",
    "# Convert data values to int\n",
    "df = pd.to_numeric(df['HourlyPrecipitation'])\n",
    "\n",
    "# Calculate the mean\n",
    "az_mean = df.mean()\n",
    "\n",
    "az_mean\n"
   ]
  },
  {
   "cell_type": "code",
   "execution_count": 77,
   "metadata": {},
   "outputs": [
    {
     "data": {
      "text/plain": [
       "0.0019286040145985403"
      ]
     },
     "execution_count": 77,
     "metadata": {},
     "output_type": "execute_result"
    }
   ],
   "source": [
    "# Filter out the 'T' and the NaN Values \n",
    "df = la[['HourlyPrecipitation']][la['HourlyPrecipitation']!='T'].dropna()\n",
    "\n",
    "# Replace the s values with nothing\n",
    "df['HourlyPrecipitation'] = df['HourlyPrecipitation'].str.replace(\"s\", \"\")\n",
    "\n",
    "# Convert data values to int\n",
    "df = pd.to_numeric(df['HourlyPrecipitation'])\n",
    "\n",
    "# Calculate the mean\n",
    "la_mean = df.mean()\n",
    "\n",
    "la_mean"
   ]
  },
  {
   "cell_type": "code",
   "execution_count": 78,
   "metadata": {},
   "outputs": [
    {
     "data": {
      "text/plain": [
       "0.0008885559525181515"
      ]
     },
     "execution_count": 78,
     "metadata": {},
     "output_type": "execute_result"
    }
   ],
   "source": [
    "# Filter out the 'T' and the NaN Values \n",
    "df = sf[['HourlyPrecipitation']][sf['HourlyPrecipitation']!='T'].dropna()\n",
    "\n",
    "# Replace the s values with nothing\n",
    "df['HourlyPrecipitation'] = df['HourlyPrecipitation'].str.replace(\"s\", \"\")\n",
    "\n",
    "# Convert data values to int\n",
    "df = pd.to_numeric(df['HourlyPrecipitation'])\n",
    "\n",
    "# Calculate the mean\n",
    "sf_mean = df.mean()\n",
    "\n",
    "sf_mean"
   ]
  },
  {
   "cell_type": "code",
   "execution_count": 79,
   "metadata": {},
   "outputs": [
    {
     "data": {
      "text/plain": [
       "0.0018161925601750549"
      ]
     },
     "execution_count": 79,
     "metadata": {},
     "output_type": "execute_result"
    }
   ],
   "source": [
    "# Filter out the 'T' and the NaN Values \n",
    "df = dn[['HourlyPrecipitation']][dn['HourlyPrecipitation']!='T'].dropna()\n",
    "\n",
    "# Replace the s values with nothing\n",
    "df['HourlyPrecipitation'] = df['HourlyPrecipitation'].str.replace(\"s\", \"\")\n",
    "\n",
    "# Convert data values to int\n",
    "df = pd.to_numeric(df['HourlyPrecipitation'])\n",
    "\n",
    "# Calculate the mean\n",
    "dn_mean = df.mean()\n",
    "\n",
    "dn_mean"
   ]
  },
  {
   "cell_type": "code",
   "execution_count": 80,
   "metadata": {},
   "outputs": [
    {
     "data": {
      "text/plain": [
       "0.014174386289949052"
      ]
     },
     "execution_count": 80,
     "metadata": {},
     "output_type": "execute_result"
    }
   ],
   "source": [
    "# Filter out the 'T' and the NaN Values \n",
    "df = jv[['HourlyPrecipitation']][jv['HourlyPrecipitation']!='T'].dropna()\n",
    "\n",
    "# Replace the s values with nothing\n",
    "df['HourlyPrecipitation'] = df['HourlyPrecipitation'].str.replace(\"s\", \"\")\n",
    "\n",
    "# Convert data values to int\n",
    "df = pd.to_numeric(df['HourlyPrecipitation'])\n",
    "\n",
    "# Calculate the mean\n",
    "jv_mean = df.mean()\n",
    "\n",
    "jv_mean"
   ]
  },
  {
   "cell_type": "code",
   "execution_count": 81,
   "metadata": {},
   "outputs": [
    {
     "data": {
      "text/plain": [
       "0.015073537795006272"
      ]
     },
     "execution_count": 81,
     "metadata": {},
     "output_type": "execute_result"
    }
   ],
   "source": [
    "# Filter out the 'T' and the NaN Values \n",
    "df = at[['HourlyPrecipitation']][at['HourlyPrecipitation']!='T'].dropna()\n",
    "\n",
    "# Replace the s values with nothing\n",
    "df['HourlyPrecipitation'] = df['HourlyPrecipitation'].str.replace(\"s\", \"\")\n",
    "\n",
    "# Convert data values to int\n",
    "df = pd.to_numeric(df['HourlyPrecipitation'])\n",
    "\n",
    "# Calculate the mean\n",
    "at_mean = df.mean()\n",
    "\n",
    "at_mean"
   ]
  },
  {
   "cell_type": "code",
   "execution_count": 82,
   "metadata": {},
   "outputs": [
    {
     "data": {
      "text/plain": [
       "0.00985991127714219"
      ]
     },
     "execution_count": 82,
     "metadata": {},
     "output_type": "execute_result"
    }
   ],
   "source": [
    "# Filter out the 'T' and the NaN Values \n",
    "df = chi[['HourlyPrecipitation']][chi['HourlyPrecipitation']!='T'].dropna()\n",
    "\n",
    "# Replace the s values with nothing\n",
    "df['HourlyPrecipitation'] = df['HourlyPrecipitation'].str.replace(\"s\", \"\")\n",
    "\n",
    "# Convert data values to int\n",
    "df = pd.to_numeric(df['HourlyPrecipitation'])\n",
    "\n",
    "# Calculate the mean\n",
    "chi_mean = df.mean()\n",
    "\n",
    "chi_mean"
   ]
  },
  {
   "cell_type": "code",
   "execution_count": 84,
   "metadata": {},
   "outputs": [
    {
     "data": {
      "text/plain": [
       "0.007871998161553486"
      ]
     },
     "execution_count": 84,
     "metadata": {},
     "output_type": "execute_result"
    }
   ],
   "source": [
    "# Filter out the 'T' and the NaN Values \n",
    "df = bos[['HourlyPrecipitation']][bos['HourlyPrecipitation']!='T'].dropna()\n",
    "\n",
    "# Replace the s values with nothing\n",
    "df['HourlyPrecipitation'] = df['HourlyPrecipitation'].str.replace(\"s\", \"\")\n",
    "\n",
    "# Convert data values to int\n",
    "df = pd.to_numeric(df['HourlyPrecipitation'])\n",
    "\n",
    "# Calculate the mean\n",
    "bos_mean = df.mean()\n",
    "\n",
    "bos_mean"
   ]
  },
  {
   "cell_type": "code",
   "execution_count": 85,
   "metadata": {},
   "outputs": [
    {
     "data": {
      "text/plain": [
       "0.007652667423382518"
      ]
     },
     "execution_count": 85,
     "metadata": {},
     "output_type": "execute_result"
    }
   ],
   "source": [
    "# Filter out the 'T' and the NaN Values \n",
    "df = min[['HourlyPrecipitation']][min['HourlyPrecipitation']!='T'].dropna()\n",
    "\n",
    "# Replace the s values with nothing\n",
    "df['HourlyPrecipitation'] = df['HourlyPrecipitation'].str.replace(\"s\", \"\")\n",
    "\n",
    "# Convert data values to int\n",
    "df = pd.to_numeric(df['HourlyPrecipitation'])\n",
    "\n",
    "# Calculate the mean\n",
    "min_mean = df.mean()\n",
    "\n",
    "min_mean"
   ]
  },
  {
   "cell_type": "code",
   "execution_count": 86,
   "metadata": {},
   "outputs": [
    {
     "data": {
      "text/plain": [
       "0.041100123609394315"
      ]
     },
     "execution_count": 86,
     "metadata": {},
     "output_type": "execute_result"
    }
   ],
   "source": [
    "# Filter out the 'T' and the NaN Values \n",
    "df = ith[['HourlyPrecipitation']][ith['HourlyPrecipitation']!='T'].dropna()\n",
    "\n",
    "# Replace the s values with nothing\n",
    "df['HourlyPrecipitation'] = df['HourlyPrecipitation'].str.replace(\"s\", \"\")\n",
    "\n",
    "# Convert data values to int\n",
    "df = pd.to_numeric(df['HourlyPrecipitation'])\n",
    "\n",
    "# Calculate the mean\n",
    "ith_mean = df.mean()\n",
    "\n",
    "ith_mean"
   ]
  },
  {
   "cell_type": "code",
   "execution_count": 87,
   "metadata": {},
   "outputs": [
    {
     "data": {
      "text/plain": [
       "0.0073756264515340425"
      ]
     },
     "execution_count": 87,
     "metadata": {},
     "output_type": "execute_result"
    }
   ],
   "source": [
    "# Filter out the 'T' and the NaN Values \n",
    "df = nyc[['HourlyPrecipitation']][nyc['HourlyPrecipitation']!='T'].dropna()\n",
    "\n",
    "# Replace the s values with nothing\n",
    "df['HourlyPrecipitation'] = df['HourlyPrecipitation'].str.replace(\"s\", \"\")\n",
    "\n",
    "# Convert data values to int\n",
    "df = pd.to_numeric(df['HourlyPrecipitation'])\n",
    "\n",
    "# Calculate the mean\n",
    "nyc_mean = df.mean()\n",
    "\n",
    "nyc_mean"
   ]
  },
  {
   "cell_type": "code",
   "execution_count": 88,
   "metadata": {},
   "outputs": [
    {
     "data": {
      "text/plain": [
       "0.0053001589436361424"
      ]
     },
     "execution_count": 88,
     "metadata": {},
     "output_type": "execute_result"
    }
   ],
   "source": [
    "# Filter out the 'T' and the NaN Values \n",
    "df = por[['HourlyPrecipitation']][por['HourlyPrecipitation']!='T'].dropna()\n",
    "\n",
    "# Replace the s values with nothing\n",
    "df['HourlyPrecipitation'] = df['HourlyPrecipitation'].str.replace(\"s\", \"\")\n",
    "\n",
    "# Convert data values to int\n",
    "df = pd.to_numeric(df['HourlyPrecipitation'])\n",
    "\n",
    "# Calculate the mean\n",
    "por_mean = df.mean()\n",
    "\n",
    "por_mean"
   ]
  },
  {
   "cell_type": "code",
   "execution_count": 89,
   "metadata": {},
   "outputs": [
    {
     "data": {
      "text/plain": [
       "0.012726868327402137"
      ]
     },
     "execution_count": 89,
     "metadata": {},
     "output_type": "execute_result"
    }
   ],
   "source": [
    "# Filter out the 'T' and the NaN Values \n",
    "df = phil[['HourlyPrecipitation']][phil['HourlyPrecipitation']!='T'].dropna()\n",
    "\n",
    "# Replace the s values with nothing\n",
    "df['HourlyPrecipitation'] = df['HourlyPrecipitation'].str.replace(\"s\", \"\")\n",
    "\n",
    "# Convert data values to int\n",
    "df = pd.to_numeric(df['HourlyPrecipitation'])\n",
    "\n",
    "# Calculate the mean\n",
    "phil_mean = df.mean()\n",
    "\n",
    "phil_mean"
   ]
  },
  {
   "cell_type": "code",
   "execution_count": 94,
   "metadata": {},
   "outputs": [
    {
     "data": {
      "text/plain": [
       "0.010049317582291547"
      ]
     },
     "execution_count": 94,
     "metadata": {},
     "output_type": "execute_result"
    }
   ],
   "source": [
    "# Filter out the 'T' and the NaN Values \n",
    "df = dal[['HourlyPrecipitation']][dal['HourlyPrecipitation']!='T'].dropna()\n",
    "\n",
    "# Replace the s values with nothing\n",
    "df['HourlyPrecipitation'] = df['HourlyPrecipitation'].str.replace(\"s\", \"\")\n",
    "\n",
    "# Convert data values to int\n",
    "df = pd.to_numeric(df['HourlyPrecipitation'])\n",
    "\n",
    "# Calculate the mean\n",
    "dal_mean = df.mean()\n",
    "\n",
    "dal_mean"
   ]
  },
  {
   "cell_type": "code",
   "execution_count": 90,
   "metadata": {},
   "outputs": [
    {
     "data": {
      "text/plain": [
       "0.0017675883794189711"
      ]
     },
     "execution_count": 90,
     "metadata": {},
     "output_type": "execute_result"
    }
   ],
   "source": [
    "# Filter out the 'T' and the NaN Values \n",
    "df = salt[['HourlyPrecipitation']][salt['HourlyPrecipitation']!='T'].dropna()\n",
    "\n",
    "# Replace the s values with nothing\n",
    "df['HourlyPrecipitation'] = df['HourlyPrecipitation'].str.replace(\"s\", \"\")\n",
    "\n",
    "# Convert data values to int\n",
    "df = pd.to_numeric(df['HourlyPrecipitation'])\n",
    "\n",
    "# Calculate the mean\n",
    "salt_mean = df.mean()\n",
    "\n",
    "salt_mean"
   ]
  },
  {
   "cell_type": "code",
   "execution_count": 91,
   "metadata": {},
   "outputs": [
    {
     "data": {
      "text/plain": [
       "0.0106395881006865"
      ]
     },
     "execution_count": 91,
     "metadata": {},
     "output_type": "execute_result"
    }
   ],
   "source": [
    "# Filter out the 'T' and the NaN Values \n",
    "df = dull[['HourlyPrecipitation']][dull['HourlyPrecipitation']!='T'].dropna()\n",
    "\n",
    "# Replace the s values with nothing\n",
    "df['HourlyPrecipitation'] = df['HourlyPrecipitation'].str.replace(\"s\", \"\")\n",
    "\n",
    "# Convert data values to int\n",
    "df = pd.to_numeric(df['HourlyPrecipitation'])\n",
    "\n",
    "# Calculate the mean\n",
    "dull_mean = df.mean()\n",
    "\n",
    "dull_mean"
   ]
  },
  {
   "cell_type": "code",
   "execution_count": 92,
   "metadata": {},
   "outputs": [
    {
     "data": {
      "text/plain": [
       "0.007003003003003004"
      ]
     },
     "execution_count": 92,
     "metadata": {},
     "output_type": "execute_result"
    }
   ],
   "source": [
    "# Filter out the 'T' and the NaN Values \n",
    "df = bell[['HourlyPrecipitation']][bell['HourlyPrecipitation']!='T'].dropna()\n",
    "\n",
    "# Replace the s values with nothing\n",
    "df['HourlyPrecipitation'] = df['HourlyPrecipitation'].str.replace(\"s\", \"\")\n",
    "\n",
    "# Convert data values to int\n",
    "df = pd.to_numeric(df['HourlyPrecipitation'])\n",
    "\n",
    "# Calculate the mean\n",
    "bell_mean = df.mean()\n",
    "\n",
    "bell_mean"
   ]
  },
  {
   "cell_type": "code",
   "execution_count": 100,
   "metadata": {},
   "outputs": [
    {
     "data": {
      "text/html": [
       "<div>\n",
       "<style scoped>\n",
       "    .dataframe tbody tr th:only-of-type {\n",
       "        vertical-align: middle;\n",
       "    }\n",
       "\n",
       "    .dataframe tbody tr th {\n",
       "        vertical-align: top;\n",
       "    }\n",
       "\n",
       "    .dataframe thead th {\n",
       "        text-align: right;\n",
       "    }\n",
       "</style>\n",
       "<table border=\"1\" class=\"dataframe\">\n",
       "  <thead>\n",
       "    <tr style=\"text-align: right;\">\n",
       "      <th></th>\n",
       "      <th>City</th>\n",
       "      <th>Mean Precipitation Value</th>\n",
       "    </tr>\n",
       "  </thead>\n",
       "  <tbody>\n",
       "    <tr>\n",
       "      <th>9</th>\n",
       "      <td>Ithaca</td>\n",
       "      <td>0.041100</td>\n",
       "    </tr>\n",
       "    <tr>\n",
       "      <th>5</th>\n",
       "      <td>Atlanta</td>\n",
       "      <td>0.015074</td>\n",
       "    </tr>\n",
       "    <tr>\n",
       "      <th>4</th>\n",
       "      <td>Jacksonville</td>\n",
       "      <td>0.014174</td>\n",
       "    </tr>\n",
       "    <tr>\n",
       "      <th>12</th>\n",
       "      <td>Philadelphia</td>\n",
       "      <td>0.012727</td>\n",
       "    </tr>\n",
       "    <tr>\n",
       "      <th>15</th>\n",
       "      <td>Washington Dulles</td>\n",
       "      <td>0.010640</td>\n",
       "    </tr>\n",
       "    <tr>\n",
       "      <th>13</th>\n",
       "      <td>Dallas</td>\n",
       "      <td>0.010049</td>\n",
       "    </tr>\n",
       "    <tr>\n",
       "      <th>6</th>\n",
       "      <td>Chicago</td>\n",
       "      <td>0.009860</td>\n",
       "    </tr>\n",
       "    <tr>\n",
       "      <th>7</th>\n",
       "      <td>Boston</td>\n",
       "      <td>0.007872</td>\n",
       "    </tr>\n",
       "    <tr>\n",
       "      <th>8</th>\n",
       "      <td>Minnesota</td>\n",
       "      <td>0.007653</td>\n",
       "    </tr>\n",
       "    <tr>\n",
       "      <th>10</th>\n",
       "      <td>New York</td>\n",
       "      <td>0.007376</td>\n",
       "    </tr>\n",
       "    <tr>\n",
       "      <th>16</th>\n",
       "      <td>Bellingham</td>\n",
       "      <td>0.007003</td>\n",
       "    </tr>\n",
       "    <tr>\n",
       "      <th>17</th>\n",
       "      <td>Seattle</td>\n",
       "      <td>0.006898</td>\n",
       "    </tr>\n",
       "    <tr>\n",
       "      <th>11</th>\n",
       "      <td>Portland</td>\n",
       "      <td>0.005300</td>\n",
       "    </tr>\n",
       "    <tr>\n",
       "      <th>1</th>\n",
       "      <td>Los Angeles</td>\n",
       "      <td>0.001929</td>\n",
       "    </tr>\n",
       "    <tr>\n",
       "      <th>3</th>\n",
       "      <td>Denver</td>\n",
       "      <td>0.001816</td>\n",
       "    </tr>\n",
       "    <tr>\n",
       "      <th>14</th>\n",
       "      <td>Salt Lake City</td>\n",
       "      <td>0.001768</td>\n",
       "    </tr>\n",
       "    <tr>\n",
       "      <th>0</th>\n",
       "      <td>Arizona</td>\n",
       "      <td>0.001154</td>\n",
       "    </tr>\n",
       "    <tr>\n",
       "      <th>2</th>\n",
       "      <td>San Francisco</td>\n",
       "      <td>0.000889</td>\n",
       "    </tr>\n",
       "  </tbody>\n",
       "</table>\n",
       "</div>"
      ],
      "text/plain": [
       "                 City  Mean Precipitation Value\n",
       "9              Ithaca                  0.041100\n",
       "5             Atlanta                  0.015074\n",
       "4        Jacksonville                  0.014174\n",
       "12       Philadelphia                  0.012727\n",
       "15  Washington Dulles                  0.010640\n",
       "13             Dallas                  0.010049\n",
       "6             Chicago                  0.009860\n",
       "7              Boston                  0.007872\n",
       "8           Minnesota                  0.007653\n",
       "10           New York                  0.007376\n",
       "16         Bellingham                  0.007003\n",
       "17            Seattle                  0.006898\n",
       "11           Portland                  0.005300\n",
       "1         Los Angeles                  0.001929\n",
       "3              Denver                  0.001816\n",
       "14     Salt Lake City                  0.001768\n",
       "0             Arizona                  0.001154\n",
       "2       San Francisco                  0.000889"
      ]
     },
     "execution_count": 100,
     "metadata": {},
     "output_type": "execute_result"
    }
   ],
   "source": [
    "# Put all the data into a data frame and organize it by descending order\n",
    "\n",
    "data = {'City': ['Arizona','Los Angeles','San Francisco','Denver', 'Jacksonville', 'Atlanta', 'Chicago', 'Boston', 'Minnesota', 'Ithaca', 'New York', 'Portland', 'Philadelphia', 'Dallas', 'Salt Lake City', 'Washington Dulles', 'Bellingham', 'Seattle'], \n",
    "        'Mean Precipitation Value': [az_mean,la_mean,sf_mean,dn_mean,jv_mean,at_mean,chi_mean,bos_mean,min_mean,ith_mean,nyc_mean,por_mean,phil_mean,dal_mean,salt_mean,dull_mean,bell_mean,sea_mean] }\n",
    "final_df = pd.DataFrame(data)\n",
    "\n",
    "final_df.sort_values(by='Mean Precipitation Value', ascending=False)\n",
    "\n"
   ]
  }
 ],
 "metadata": {
  "kernelspec": {
   "display_name": "DATA311",
   "language": "python",
   "name": "python3"
  },
  "language_info": {
   "codemirror_mode": {
    "name": "ipython",
    "version": 3
   },
   "file_extension": ".py",
   "mimetype": "text/x-python",
   "name": "python",
   "nbconvert_exporter": "python",
   "pygments_lexer": "ipython3",
   "version": "3.12.1"
  }
 },
 "nbformat": 4,
 "nbformat_minor": 2
}
