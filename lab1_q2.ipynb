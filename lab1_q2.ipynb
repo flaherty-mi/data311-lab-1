{
 "cells": [
  {
   "cell_type": "code",
   "execution_count": 87,
   "metadata": {},
   "outputs": [
    {
     "name": "stderr",
     "output_type": "stream",
     "text": [
      "C:\\Users\\Meghan\\AppData\\Local\\Temp\\ipykernel_24720\\1925170515.py:5: DtypeWarning: Columns (42,49) have mixed types. Specify dtype option on import or set low_memory=False.\n",
      "  bellingham = pd.read_csv('https://facultyweb.cs.wwu.edu/~hutchib2/spr22/data311/lab1/WA_Bellingham.csv')\n"
     ]
    }
   ],
   "source": [
    "# lab 1 pt.2 \n",
    "# amount of times bellingham has been overcast in 2020 by hour\n",
    "# should the code work for any of csv files - loading in values into the df, or writing code that fills the data frame\n",
    "\n",
    "import pandas as pd\n",
    "\n",
    "bellingham = pd.read_csv('https://facultyweb.cs.wwu.edu/~hutchib2/spr22/data311/lab1/WA_Bellingham.csv')\n"
   ]
  },
  {
   "cell_type": "code",
   "execution_count": 129,
   "metadata": {},
   "outputs": [
    {
     "name": "stdout",
     "output_type": "stream",
     "text": [
      "459\n"
     ]
    }
   ],
   "source": [
    "\n",
    "# isolate date, report type, & HSC columns  \n",
    "# dropna() drops all NaN values from df\n",
    "bham= bellingham[['DATE', 'REPORT_TYPE','HourlySkyConditions']].dropna().astype('string')\n",
    "\n",
    "    # access only january rows & drop NaN values\n",
    "jan = bham[bham['DATE'].str.contains('2020-01')].dropna()  \n",
    "    # access only HSC that list OVC\n",
    "jan = jan[jan['HourlySkyConditions'].str.contains('OVC')]\n",
    "    # access only FM rows\n",
    "jan = jan[jan['REPORT_TYPE'].str.contains('FM')]  \n",
    "    # count occurences of OVC in jan \n",
    "jan = jan['HourlySkyConditions'].value_counts().dropna() \n",
    "jan = len(jan)\n",
    "\n",
    "print(jan)"
   ]
  },
  {
   "cell_type": "code",
   "execution_count": 130,
   "metadata": {},
   "outputs": [
    {
     "name": "stdout",
     "output_type": "stream",
     "text": [
      "352\n"
     ]
    }
   ],
   "source": [
    "feb = bham[bham['DATE'].str.contains('2020-02')].dropna()  \n",
    "    # access only HSC that list OVC\n",
    "feb = feb[feb['HourlySkyConditions'].str.contains('OVC')]\n",
    "    # access only FM rows\n",
    "feb = feb[feb['REPORT_TYPE'].str.contains('FM')]  \n",
    "    # count occurences of OVC in jan \n",
    "feb = feb['HourlySkyConditions'].value_counts().dropna() \n",
    "feb = len(feb)\n",
    "\n",
    "print(feb)"
   ]
  },
  {
   "cell_type": "code",
   "execution_count": 131,
   "metadata": {},
   "outputs": [
    {
     "name": "stdout",
     "output_type": "stream",
     "text": [
      "285\n"
     ]
    }
   ],
   "source": [
    "mar = bham[bham['DATE'].str.contains('2020-03')].dropna()  \n",
    "    # access only HSC that list OVC\n",
    "mar = mar[mar['HourlySkyConditions'].str.contains('OVC')]\n",
    "    # access only FM rows\n",
    "mar = mar[mar['REPORT_TYPE'].str.contains('FM')]  \n",
    "    # count occurences of OVC in jan \n",
    "mar = mar['HourlySkyConditions'].value_counts().dropna() \n",
    "mar = len(mar)\n",
    "\n",
    "print(mar)"
   ]
  },
  {
   "cell_type": "code",
   "execution_count": 132,
   "metadata": {},
   "outputs": [
    {
     "name": "stdout",
     "output_type": "stream",
     "text": [
      "200\n"
     ]
    }
   ],
   "source": [
    "apr = bham[bham['DATE'].str.contains('2020-04')].dropna()  \n",
    "    # access only HSC that list OVC\n",
    "apr = apr[apr['HourlySkyConditions'].str.contains('OVC')]\n",
    "    # access only FM rows\n",
    "apr = apr[apr['REPORT_TYPE'].str.contains('FM')]  \n",
    "    # count occurences of OVC in jan \n",
    "apr = apr['HourlySkyConditions'].value_counts().dropna() \n",
    "apr = len(apr)\n",
    "\n",
    "print(apr)"
   ]
  },
  {
   "cell_type": "code",
   "execution_count": 141,
   "metadata": {},
   "outputs": [
    {
     "name": "stdout",
     "output_type": "stream",
     "text": [
      "208\n"
     ]
    }
   ],
   "source": [
    "may = bham[bham['DATE'].str.contains('2020-05')].dropna()  \n",
    "    # access only HSC that list OVC\n",
    "may = may[may['HourlySkyConditions'].str.contains('OVC')]\n",
    "    # access only FM rows\n",
    "may = may[may['REPORT_TYPE'].str.contains('FM')]  \n",
    "    # count occurences of OVC in jan \n",
    "may = may['HourlySkyConditions'].value_counts().dropna() \n",
    "may = len(may)\n",
    "\n",
    "print(may)"
   ]
  },
  {
   "cell_type": "code",
   "execution_count": 142,
   "metadata": {},
   "outputs": [
    {
     "name": "stdout",
     "output_type": "stream",
     "text": [
      "223\n"
     ]
    }
   ],
   "source": [
    "jun = bham[bham['DATE'].str.contains('2020-06')].dropna()  \n",
    "    # access only HSC that list OVC\n",
    "jun = jun[jun['HourlySkyConditions'].str.contains('OVC')]\n",
    "    # access only FM rows\n",
    "jun = jun[jun['REPORT_TYPE'].str.contains('FM')]  \n",
    "    # count occurences of OVC in jan \n",
    "jun = jun['HourlySkyConditions'].value_counts().dropna() \n",
    "jun = len(jun)\n",
    "\n",
    "print(jun)"
   ]
  },
  {
   "cell_type": "code",
   "execution_count": 143,
   "metadata": {},
   "outputs": [
    {
     "name": "stdout",
     "output_type": "stream",
     "text": [
      "178\n"
     ]
    }
   ],
   "source": [
    "jul = bham[bham['DATE'].str.contains('2020-07')].dropna()  \n",
    "    # access only HSC that list OVC\n",
    "jul = jul[jul['HourlySkyConditions'].str.contains('OVC')]\n",
    "    # access only FM rows\n",
    "jul = jul[jul['REPORT_TYPE'].str.contains('FM')]  \n",
    "    # count occurences of OVC in jan \n",
    "jul = jul['HourlySkyConditions'].value_counts().dropna() \n",
    "jul = len(jul)\n",
    "\n",
    "print(jul)"
   ]
  },
  {
   "cell_type": "code",
   "execution_count": 144,
   "metadata": {},
   "outputs": [
    {
     "name": "stdout",
     "output_type": "stream",
     "text": [
      "102\n"
     ]
    }
   ],
   "source": [
    "aug = bham[bham['DATE'].str.contains('2020-08')].dropna()  \n",
    "    # access only HSC that list OVC\n",
    "aug = aug[aug['HourlySkyConditions'].str.contains('OVC')]\n",
    "    # access only FM rows\n",
    "aug = aug[aug['REPORT_TYPE'].str.contains('FM')]  \n",
    "    # count occurences of OVC in jan \n",
    "aug = aug['HourlySkyConditions'].value_counts().dropna() \n",
    "aug = len(aug)\n",
    "\n",
    "print(aug)"
   ]
  },
  {
   "cell_type": "code",
   "execution_count": 145,
   "metadata": {},
   "outputs": [
    {
     "name": "stdout",
     "output_type": "stream",
     "text": [
      "221\n"
     ]
    }
   ],
   "source": [
    "sep = bham[bham['DATE'].str.contains('2020-09')].dropna()  \n",
    "    # access only HSC that list OVC\n",
    "sep = sep[sep['HourlySkyConditions'].str.contains('OVC')]\n",
    "    # access only FM rows\n",
    "sep = sep[sep['REPORT_TYPE'].str.contains('FM')]  \n",
    "    # count occurences of OVC in jan \n",
    "sep = sep['HourlySkyConditions'].value_counts().dropna() \n",
    "sep = len(sep)\n",
    "\n",
    "print(sep)"
   ]
  },
  {
   "cell_type": "code",
   "execution_count": 146,
   "metadata": {},
   "outputs": [
    {
     "name": "stdout",
     "output_type": "stream",
     "text": [
      "256\n"
     ]
    }
   ],
   "source": [
    "octo = bham[bham['DATE'].str.contains('2020-10')].dropna()  \n",
    "    # access only HSC that list OVC\n",
    "octo = octo[octo['HourlySkyConditions'].str.contains('OVC')]\n",
    "    # access only FM rows\n",
    "octo = octo[octo['REPORT_TYPE'].str.contains('FM')]  \n",
    "    # count occurences of OVC in jan \n",
    "octo = octo['HourlySkyConditions'].value_counts().dropna() \n",
    "octo = len(octo)\n",
    "\n",
    "print(octo)"
   ]
  },
  {
   "cell_type": "code",
   "execution_count": 147,
   "metadata": {},
   "outputs": [
    {
     "name": "stdout",
     "output_type": "stream",
     "text": [
      "366\n"
     ]
    }
   ],
   "source": [
    "nov = bham[bham['DATE'].str.contains('2020-11')].dropna()  \n",
    "    # access only HSC that list OVC\n",
    "nov = nov[nov['HourlySkyConditions'].str.contains('OVC')]\n",
    "    # access only FM rows\n",
    "nov = nov[nov['REPORT_TYPE'].str.contains('FM')]  \n",
    "    # count occurences of OVC in jan \n",
    "nov = nov['HourlySkyConditions'].value_counts().dropna() \n",
    "nov = len(nov)\n",
    "\n",
    "print(nov)"
   ]
  },
  {
   "cell_type": "code",
   "execution_count": 148,
   "metadata": {},
   "outputs": [
    {
     "name": "stdout",
     "output_type": "stream",
     "text": [
      "353\n"
     ]
    }
   ],
   "source": [
    "dec = bham[bham['DATE'].str.contains('2020-12')].dropna()  \n",
    "    # access only HSC that list OVC\n",
    "dec = dec[dec['HourlySkyConditions'].str.contains('OVC')]\n",
    "    # access only FM rows\n",
    "dec = dec[dec['REPORT_TYPE'].str.contains('FM')]  \n",
    "    # count occurences of OVC in jan \n",
    "dec = dec['HourlySkyConditions'].value_counts().dropna() \n",
    "dec = len(dec)\n",
    "\n",
    "print(dec)"
   ]
  },
  {
   "cell_type": "code",
   "execution_count": 151,
   "metadata": {},
   "outputs": [
    {
     "data": {
      "text/html": [
       "<div>\n",
       "<style scoped>\n",
       "    .dataframe tbody tr th:only-of-type {\n",
       "        vertical-align: middle;\n",
       "    }\n",
       "\n",
       "    .dataframe tbody tr th {\n",
       "        vertical-align: top;\n",
       "    }\n",
       "\n",
       "    .dataframe thead th {\n",
       "        text-align: right;\n",
       "    }\n",
       "</style>\n",
       "<table border=\"1\" class=\"dataframe\">\n",
       "  <thead>\n",
       "    <tr style=\"text-align: right;\">\n",
       "      <th></th>\n",
       "      <th>Month</th>\n",
       "      <th>Overcast value</th>\n",
       "    </tr>\n",
       "  </thead>\n",
       "  <tbody>\n",
       "    <tr>\n",
       "      <th>0</th>\n",
       "      <td>Jan</td>\n",
       "      <td>459</td>\n",
       "    </tr>\n",
       "    <tr>\n",
       "      <th>10</th>\n",
       "      <td>Nov</td>\n",
       "      <td>366</td>\n",
       "    </tr>\n",
       "    <tr>\n",
       "      <th>11</th>\n",
       "      <td>Dec</td>\n",
       "      <td>353</td>\n",
       "    </tr>\n",
       "    <tr>\n",
       "      <th>1</th>\n",
       "      <td>Feb</td>\n",
       "      <td>352</td>\n",
       "    </tr>\n",
       "    <tr>\n",
       "      <th>2</th>\n",
       "      <td>Mar</td>\n",
       "      <td>285</td>\n",
       "    </tr>\n",
       "    <tr>\n",
       "      <th>9</th>\n",
       "      <td>Oct</td>\n",
       "      <td>256</td>\n",
       "    </tr>\n",
       "    <tr>\n",
       "      <th>5</th>\n",
       "      <td>Jun</td>\n",
       "      <td>223</td>\n",
       "    </tr>\n",
       "    <tr>\n",
       "      <th>8</th>\n",
       "      <td>Sep</td>\n",
       "      <td>221</td>\n",
       "    </tr>\n",
       "    <tr>\n",
       "      <th>4</th>\n",
       "      <td>May</td>\n",
       "      <td>208</td>\n",
       "    </tr>\n",
       "    <tr>\n",
       "      <th>3</th>\n",
       "      <td>Apr</td>\n",
       "      <td>200</td>\n",
       "    </tr>\n",
       "    <tr>\n",
       "      <th>6</th>\n",
       "      <td>Jul</td>\n",
       "      <td>178</td>\n",
       "    </tr>\n",
       "    <tr>\n",
       "      <th>7</th>\n",
       "      <td>Aug</td>\n",
       "      <td>102</td>\n",
       "    </tr>\n",
       "  </tbody>\n",
       "</table>\n",
       "</div>"
      ],
      "text/plain": [
       "   Month  Overcast value\n",
       "0    Jan             459\n",
       "10   Nov             366\n",
       "11   Dec             353\n",
       "1    Feb             352\n",
       "2    Mar             285\n",
       "9    Oct             256\n",
       "5    Jun             223\n",
       "8    Sep             221\n",
       "4    May             208\n",
       "3    Apr             200\n",
       "6    Jul             178\n",
       "7    Aug             102"
      ]
     },
     "execution_count": 151,
     "metadata": {},
     "output_type": "execute_result"
    }
   ],
   "source": [
    "\n",
    "data = {\"Month\": ['Jan', 'Feb', 'Mar', 'Apr', 'May', 'Jun', 'Jul','Aug','Sep','Oct', 'Nov', 'Dec'],\n",
    "            'Overcast value': [jan,feb,mar,apr,may,jun,jul,aug,sep,octo,nov,dec]}\n",
    "df = pd.DataFrame(data)\n",
    "\n",
    "df.sort_values(by='Overcast value', ascending=False)\n",
    "\n",
    "# jan 459\n",
    "# feb 352\n",
    "# mar 285\n",
    "# apr 200\n",
    "# may 208\n",
    "# jun 223\n",
    "# jul 178\n",
    "# aug 102\n",
    "# sep 221\n",
    "# oct 256\n",
    "# nov 366\n",
    "# dec 353"
   ]
  }
 ],
 "metadata": {
  "kernelspec": {
   "display_name": "NOAA",
   "language": "python",
   "name": "python3"
  },
  "language_info": {
   "codemirror_mode": {
    "name": "ipython",
    "version": 3
   },
   "file_extension": ".py",
   "mimetype": "text/x-python",
   "name": "python",
   "nbconvert_exporter": "python",
   "pygments_lexer": "ipython3",
   "version": "3.12.1"
  }
 },
 "nbformat": 4,
 "nbformat_minor": 2
}
