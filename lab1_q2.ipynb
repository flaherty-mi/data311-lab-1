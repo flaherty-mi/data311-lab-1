{
 "cells": [
  {
   "cell_type": "code",
   "execution_count": 87,
   "metadata": {},
   "outputs": [
    {
     "name": "stderr",
     "output_type": "stream",
     "text": [
      "C:\\Users\\Meghan\\AppData\\Local\\Temp\\ipykernel_24720\\1925170515.py:5: DtypeWarning: Columns (42,49) have mixed types. Specify dtype option on import or set low_memory=False.\n",
      "  bellingham = pd.read_csv('https://facultyweb.cs.wwu.edu/~hutchib2/spr22/data311/lab1/WA_Bellingham.csv')\n"
     ]
    }
   ],
   "source": [
    "# Meghan Flaherty: DATA311\n",
    "# lab 1 NOAA- notebook 2 \n",
    "# Amount of times bellingham has been overcast in 2020 by hour\n",
    "#\n",
    "# worked with Arvind Ramesh for all notebooks in the lab.\n",
    "#    all lines of code were written together, so all basic logic and technique will be the same\n",
    "#    some variable names and formats for how the code is written may be different between our submissions\n",
    "import pandas as pd\n",
    "\n",
    "bellingham = pd.read_csv('https://facultyweb.cs.wwu.edu/~hutchib2/spr22/data311/lab1/WA_Bellingham.csv')\n"
   ]
  },
  {
   "cell_type": "code",
   "execution_count": 166,
   "metadata": {},
   "outputs": [],
   "source": [
    "# isolate date, report type, & HSC columns  \n",
    "# drop all NaN values from df + convert to str\n",
    "bham= bellingham[['DATE', 'REPORT_TYPE','HourlySkyConditions']].dropna().astype('string')\n",
    "\n",
    "    # access only january rows & drop NaN values\n",
    "jan = bham[bham['DATE'].str.contains('2020-01')].dropna()  \n",
    "    # access only HSC that list OVC\n",
    "jan = jan[jan['HourlySkyConditions'].str.contains('OVC')]\n",
    "    # access only FM rows\n",
    "jan = jan[jan['REPORT_TYPE']=='FM-15']  \n",
    "    # count occurences of OVC in jan \n",
    "jan = jan['HourlySkyConditions'].value_counts().dropna() \n",
    "    # get length\n",
    "jan = len(jan)"
   ]
  },
  {
   "cell_type": "code",
   "execution_count": 167,
   "metadata": {},
   "outputs": [],
   "source": [
    "feb = bham[bham['DATE'].str.contains('2020-02')].dropna()  \n",
    "    # access only HSC that list OVC\n",
    "feb = feb[feb['HourlySkyConditions'].str.contains('OVC')]\n",
    "    # access only FM rows\n",
    "feb = feb[feb['REPORT_TYPE']=='FM-15'] \n",
    "    # count occurences of OVC in jan \n",
    "feb = feb['HourlySkyConditions'].value_counts().dropna() \n",
    "feb = len(feb)"
   ]
  },
  {
   "cell_type": "code",
   "execution_count": 168,
   "metadata": {},
   "outputs": [],
   "source": [
    "mar = bham[bham['DATE'].str.contains('2020-03')].dropna()  \n",
    "    # access only HSC that list OVC\n",
    "mar = mar[mar['HourlySkyConditions'].str.contains('OVC')]\n",
    "    # access only FM rows\n",
    "mar = mar[mar['REPORT_TYPE']=='FM-15']  \n",
    "    # count occurences of OVC in jan \n",
    "mar = mar['HourlySkyConditions'].value_counts().dropna() \n",
    "mar = len(mar)"
   ]
  },
  {
   "cell_type": "code",
   "execution_count": 169,
   "metadata": {},
   "outputs": [],
   "source": [
    "apr = bham[bham['DATE'].str.contains('2020-04')].dropna()  \n",
    "    # access only HSC that list OVC\n",
    "apr = apr[apr['HourlySkyConditions'].str.contains('OVC')]\n",
    "    # access only FM rows\n",
    "apr = apr[apr['REPORT_TYPE']=='FM-15']  \n",
    "    # count occurences of OVC in jan \n",
    "apr = apr['HourlySkyConditions'].value_counts().dropna() \n",
    "apr = len(apr)"
   ]
  },
  {
   "cell_type": "code",
   "execution_count": 170,
   "metadata": {},
   "outputs": [],
   "source": [
    "may = bham[bham['DATE'].str.contains('2020-05')].dropna()  \n",
    "    # access only HSC that list OVC\n",
    "may = may[may['HourlySkyConditions'].str.contains('OVC')]\n",
    "    # access only FM rows\n",
    "may = may[may['REPORT_TYPE']=='FM-15']  \n",
    "    # count occurences of OVC in jan \n",
    "may = may['HourlySkyConditions'].value_counts().dropna() \n",
    "may = len(may)"
   ]
  },
  {
   "cell_type": "code",
   "execution_count": 171,
   "metadata": {},
   "outputs": [],
   "source": [
    "jun = bham[bham['DATE'].str.contains('2020-06')].dropna()  \n",
    "    # access only HSC that list OVC\n",
    "jun = jun[jun['HourlySkyConditions'].str.contains('OVC')]\n",
    "    # access only FM rows\n",
    "jun = jun[jun['REPORT_TYPE']=='FM-15'] \n",
    "    # count occurences of OVC in jan \n",
    "jun = jun['HourlySkyConditions'].value_counts().dropna() \n",
    "jun = len(jun)"
   ]
  },
  {
   "cell_type": "code",
   "execution_count": 172,
   "metadata": {},
   "outputs": [],
   "source": [
    "jul = bham[bham['DATE'].str.contains('2020-07')].dropna()  \n",
    "    # access only HSC that list OVC\n",
    "jul = jul[jul['HourlySkyConditions'].str.contains('OVC')]\n",
    "    # access only FM rows\n",
    "jul = jul[jul['REPORT_TYPE']=='FM-15']  \n",
    "    # count occurences of OVC in jan \n",
    "jul = jul['HourlySkyConditions'].value_counts().dropna() \n",
    "jul = len(jul)"
   ]
  },
  {
   "cell_type": "code",
   "execution_count": 173,
   "metadata": {},
   "outputs": [],
   "source": [
    "aug = bham[bham['DATE'].str.contains('2020-08')].dropna()  \n",
    "    # access only HSC that list OVC\n",
    "aug = aug[aug['HourlySkyConditions'].str.contains('OVC')]\n",
    "    # access only FM rows\n",
    "aug = aug[aug['REPORT_TYPE']=='FM-15']  \n",
    "    # count occurences of OVC in jan \n",
    "aug = aug['HourlySkyConditions'].value_counts().dropna() \n",
    "aug = len(aug)"
   ]
  },
  {
   "cell_type": "code",
   "execution_count": 174,
   "metadata": {},
   "outputs": [],
   "source": [
    "sep = bham[bham['DATE'].str.contains('2020-09')].dropna()  \n",
    "    # access only HSC that list OVC\n",
    "sep = sep[sep['HourlySkyConditions'].str.contains('OVC')]\n",
    "    # access only FM rows\n",
    "sep = sep[sep['REPORT_TYPE']=='FM-15']  \n",
    "    # count occurences of OVC in jan \n",
    "sep = sep['HourlySkyConditions'].value_counts().dropna() \n",
    "sep = len(sep)"
   ]
  },
  {
   "cell_type": "code",
   "execution_count": 175,
   "metadata": {},
   "outputs": [],
   "source": [
    "octo = bham[bham['DATE'].str.contains('2020-10')].dropna()  \n",
    "    # access only HSC that list OVC\n",
    "octo = octo[octo['HourlySkyConditions'].str.contains('OVC')]\n",
    "    # access only FM rows\n",
    "octo = octo[octo['REPORT_TYPE']=='FM-15']  \n",
    "    # count occurences of OVC in jan \n",
    "octo = octo['HourlySkyConditions'].value_counts().dropna() \n",
    "octo = len(octo)"
   ]
  },
  {
   "cell_type": "code",
   "execution_count": 176,
   "metadata": {},
   "outputs": [],
   "source": [
    "nov = bham[bham['DATE'].str.contains('2020-11')].dropna()  \n",
    "    # access only HSC that list OVC\n",
    "nov = nov[nov['HourlySkyConditions'].str.contains('OVC')]\n",
    "    # access only FM rows\n",
    "nov = nov[nov['REPORT_TYPE']=='FM-15']  \n",
    "    # count occurences of OVC in jan \n",
    "nov = nov['HourlySkyConditions'].value_counts().dropna() \n",
    "nov = len(nov)"
   ]
  },
  {
   "cell_type": "code",
   "execution_count": 177,
   "metadata": {},
   "outputs": [],
   "source": [
    "dec = bham[bham['DATE'].str.contains('2020-12')].dropna()  \n",
    "    # access only HSC that list OVC\n",
    "dec = dec[dec['HourlySkyConditions'].str.contains('OVC')]\n",
    "    # access only FM rows\n",
    "dec = dec[dec['REPORT_TYPE']=='FM-15']  \n",
    "    # count occurences of OVC in jan \n",
    "dec = dec['HourlySkyConditions'].value_counts().dropna() \n",
    "dec = len(dec)"
   ]
  },
  {
   "cell_type": "code",
   "execution_count": 178,
   "metadata": {},
   "outputs": [
    {
     "data": {
      "text/html": [
       "<div>\n",
       "<style scoped>\n",
       "    .dataframe tbody tr th:only-of-type {\n",
       "        vertical-align: middle;\n",
       "    }\n",
       "\n",
       "    .dataframe tbody tr th {\n",
       "        vertical-align: top;\n",
       "    }\n",
       "\n",
       "    .dataframe thead th {\n",
       "        text-align: right;\n",
       "    }\n",
       "</style>\n",
       "<table border=\"1\" class=\"dataframe\">\n",
       "  <thead>\n",
       "    <tr style=\"text-align: right;\">\n",
       "      <th></th>\n",
       "      <th>Month</th>\n",
       "      <th>Mean Overcast Occurences</th>\n",
       "    </tr>\n",
       "  </thead>\n",
       "  <tbody>\n",
       "    <tr>\n",
       "      <th>0</th>\n",
       "      <td>Jan</td>\n",
       "      <td>329</td>\n",
       "    </tr>\n",
       "    <tr>\n",
       "      <th>10</th>\n",
       "      <td>Nov</td>\n",
       "      <td>259</td>\n",
       "    </tr>\n",
       "    <tr>\n",
       "      <th>11</th>\n",
       "      <td>Dec</td>\n",
       "      <td>253</td>\n",
       "    </tr>\n",
       "    <tr>\n",
       "      <th>1</th>\n",
       "      <td>Feb</td>\n",
       "      <td>240</td>\n",
       "    </tr>\n",
       "    <tr>\n",
       "      <th>2</th>\n",
       "      <td>Mar</td>\n",
       "      <td>207</td>\n",
       "    </tr>\n",
       "    <tr>\n",
       "      <th>9</th>\n",
       "      <td>Oct</td>\n",
       "      <td>191</td>\n",
       "    </tr>\n",
       "    <tr>\n",
       "      <th>5</th>\n",
       "      <td>Jun</td>\n",
       "      <td>177</td>\n",
       "    </tr>\n",
       "    <tr>\n",
       "      <th>4</th>\n",
       "      <td>May</td>\n",
       "      <td>162</td>\n",
       "    </tr>\n",
       "    <tr>\n",
       "      <th>3</th>\n",
       "      <td>Apr</td>\n",
       "      <td>151</td>\n",
       "    </tr>\n",
       "    <tr>\n",
       "      <th>8</th>\n",
       "      <td>Sep</td>\n",
       "      <td>147</td>\n",
       "    </tr>\n",
       "    <tr>\n",
       "      <th>6</th>\n",
       "      <td>Jul</td>\n",
       "      <td>141</td>\n",
       "    </tr>\n",
       "    <tr>\n",
       "      <th>7</th>\n",
       "      <td>Aug</td>\n",
       "      <td>86</td>\n",
       "    </tr>\n",
       "  </tbody>\n",
       "</table>\n",
       "</div>"
      ],
      "text/plain": [
       "   Month  Mean Overcast Occurences\n",
       "0    Jan                       329\n",
       "10   Nov                       259\n",
       "11   Dec                       253\n",
       "1    Feb                       240\n",
       "2    Mar                       207\n",
       "9    Oct                       191\n",
       "5    Jun                       177\n",
       "4    May                       162\n",
       "3    Apr                       151\n",
       "8    Sep                       147\n",
       "6    Jul                       141\n",
       "7    Aug                        86"
      ]
     },
     "execution_count": 178,
     "metadata": {},
     "output_type": "execute_result"
    }
   ],
   "source": [
    "# create final data frame & fill with values \n",
    "data = {\"Month\": ['Jan', 'Feb', 'Mar', 'Apr', 'May', 'Jun', 'Jul','Aug','Sep','Oct', 'Nov', 'Dec'],\n",
    "            'Mean Overcast Occurences': [jan,feb,mar,apr,may,jun,jul,aug,sep,octo,nov,dec]}\n",
    "df = pd.DataFrame(data)\n",
    "# sort data frame in descending order based on the OVC values\n",
    "df.sort_values(by='Mean Overcast Occurences', ascending=False)\n"
   ]
  }
 ],
 "metadata": {
  "kernelspec": {
   "display_name": "NOAA",
   "language": "python",
   "name": "python3"
  },
  "language_info": {
   "codemirror_mode": {
    "name": "ipython",
    "version": 3
   },
   "file_extension": ".py",
   "mimetype": "text/x-python",
   "name": "python",
   "nbconvert_exporter": "python",
   "pygments_lexer": "ipython3",
   "version": "3.12.1"
  }
 },
 "nbformat": 4,
 "nbformat_minor": 2
}
